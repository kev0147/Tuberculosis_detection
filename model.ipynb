{
 "cells": [
  {
   "cell_type": "code",
   "execution_count": 3,
   "metadata": {},
   "outputs": [
    {
     "name": "stdout",
     "output_type": "stream",
     "text": [
      "cuda\n"
     ]
    }
   ],
   "source": [
    "# Importing libraries\n",
    "\n",
    "\n",
    "import os\n",
    "import random\n",
    "import numpy as np\n",
    "import pandas as pd\n",
    "from PIL import Image\n",
    "import matplotlib.pyplot as plt\n",
    "\n",
    "import torch\n",
    "import torchvision\n",
    "import torch.nn as nn\n",
    "import torch.optim as optim\n",
    "import torch.nn.functional as F\n",
    "from torch.utils.data import Dataset\n",
    "from torchvision.io import read_image\n",
    "from torch.utils.data import DataLoader\n",
    "from torchvision import datasets, models, transforms\n",
    "\n",
    "# Initital configurations\n",
    "SEED = 1234\n",
    "\n",
    "def set_seeds(seed=1234):\n",
    "    \"\"\"Set seeds for reproducibility.\"\"\"\n",
    "    np.random.seed(seed)\n",
    "    random.seed(seed)\n",
    "    torch.manual_seed(seed)\n",
    "    torch.cuda.manual_seed(seed)\n",
    "    torch.cuda.manual_seed_all(seed) # multi-GPU\n",
    "\n",
    "# Set seeds for reproducibility\n",
    "set_seeds(seed=SEED)\n",
    "\n",
    "# Set device\n",
    "cuda = True\n",
    "device = torch.device(\"cuda\" if (\n",
    "    torch.cuda.is_available() and cuda) else \"cpu\")\n",
    "    \n",
    "\n",
    "print(device)"
   ]
  },
  {
   "cell_type": "code",
   "execution_count": 2,
   "metadata": {},
   "outputs": [
    {
     "data": {
      "text/plain": [
       "True"
      ]
     },
     "execution_count": 2,
     "metadata": {},
     "output_type": "execute_result"
    }
   ],
   "source": [
    "torch.cuda.is_available()"
   ]
  },
  {
   "cell_type": "code",
   "execution_count": 3,
   "metadata": {},
   "outputs": [
    {
     "name": "stdout",
     "output_type": "stream",
     "text": [
      "Looking in indexes: https://pypi.org/simple, https://pypi.ngc.nvidia.com\n",
      "Requirement already satisfied: torchmetrics in k:\\docs\\stage_ingenieur\\models\\classification\\virtual_env\\lib\\site-packages (1.2.0)\n",
      "Requirement already satisfied: numpy>1.20.0 in k:\\docs\\stage_ingenieur\\models\\classification\\virtual_env\\lib\\site-packages (from torchmetrics) (1.26.1)\n",
      "Requirement already satisfied: torch>=1.8.1 in k:\\docs\\stage_ingenieur\\models\\classification\\virtual_env\\lib\\site-packages (from torchmetrics) (2.1.0+cu121)\n",
      "Requirement already satisfied: lightning-utilities>=0.8.0 in k:\\docs\\stage_ingenieur\\models\\classification\\virtual_env\\lib\\site-packages (from torchmetrics) (0.9.0)\n",
      "Requirement already satisfied: packaging>=17.1 in k:\\docs\\stage_ingenieur\\models\\classification\\virtual_env\\lib\\site-packages (from lightning-utilities>=0.8.0->torchmetrics) (23.2)\n",
      "Requirement already satisfied: typing-extensions in k:\\docs\\stage_ingenieur\\models\\classification\\virtual_env\\lib\\site-packages (from lightning-utilities>=0.8.0->torchmetrics) (4.4.0)\n",
      "Requirement already satisfied: filelock in k:\\docs\\stage_ingenieur\\models\\classification\\virtual_env\\lib\\site-packages (from torch>=1.8.1->torchmetrics) (3.9.0)\n",
      "Requirement already satisfied: sympy in k:\\docs\\stage_ingenieur\\models\\classification\\virtual_env\\lib\\site-packages (from torch>=1.8.1->torchmetrics) (1.12)\n",
      "Requirement already satisfied: networkx in k:\\docs\\stage_ingenieur\\models\\classification\\virtual_env\\lib\\site-packages (from torch>=1.8.1->torchmetrics) (3.0)\n",
      "Requirement already satisfied: jinja2 in k:\\docs\\stage_ingenieur\\models\\classification\\virtual_env\\lib\\site-packages (from torch>=1.8.1->torchmetrics) (3.1.2)\n",
      "Requirement already satisfied: fsspec in k:\\docs\\stage_ingenieur\\models\\classification\\virtual_env\\lib\\site-packages (from torch>=1.8.1->torchmetrics) (2023.4.0)\n",
      "Requirement already satisfied: MarkupSafe>=2.0 in k:\\docs\\stage_ingenieur\\models\\classification\\virtual_env\\lib\\site-packages (from jinja2->torch>=1.8.1->torchmetrics) (2.1.2)\n",
      "Requirement already satisfied: mpmath>=0.19 in k:\\docs\\stage_ingenieur\\models\\classification\\virtual_env\\lib\\site-packages (from sympy->torch>=1.8.1->torchmetrics) (1.3.0)\n"
     ]
    },
    {
     "name": "stderr",
     "output_type": "stream",
     "text": [
      "\n",
      "[notice] A new release of pip is available: 23.3 -> 23.3.1\n",
      "[notice] To update, run: python.exe -m pip install --upgrade pip\n"
     ]
    }
   ],
   "source": [
    "!pip install torchmetrics"
   ]
  },
  {
   "cell_type": "code",
   "execution_count": null,
   "metadata": {},
   "outputs": [],
   "source": [
    "path_to_excel_file_of_normal = ''\n",
    "path_to_excel_file_of_anormal = ''\n",
    "\n",
    "path_to_folder_of_normal = '' #put * at the end. So that all files will be taken\n",
    "path_to_folder_of_anormal = '' #put * at the end. So that all files will be taken\n",
    "\n",
    "path_where_you_want_to_save_the_model = ''\n",
    "the_name_you_want_to_give_to_the_model = '' #add the .pth extension "
   ]
  },
  {
   "cell_type": "code",
   "execution_count": 4,
   "metadata": {},
   "outputs": [
    {
     "name": "stdout",
     "output_type": "stream",
     "text": [
      "-------------------Dataset------------------\n",
      "Total Normal CXR Images:  332\n",
      "Total Tuberculosis CXR Images:  19\n"
     ]
    }
   ],
   "source": [
    "normal_df = pd.read_excel(path_to_excel_file_of_normal)\n",
    "anormal_df = pd.read_excel(path_to_excel_file_of_anormal)\n",
    "\n",
    "print(\"-------------------Dataset------------------\")\n",
    "print(\"Images Normal: \",len(normal_df))\n",
    "print(\"Images Anormal: \",len(anormal_df))"
   ]
  },
  {
   "cell_type": "code",
   "execution_count": 4,
   "metadata": {},
   "outputs": [
    {
     "name": "stdout",
     "output_type": "stream",
     "text": [
      "-------------------Dataset------------------\n",
      "Total train Images:  263\n",
      "Total validation Images:  53\n",
      "Total test Images:  42\n"
     ]
    }
   ],
   "source": [
    "import glob\n",
    "anormal = glob.glob(path_to_folder_of_anormal)\n",
    "normal = glob.glob(path_to_folder_of_normal)\n",
    "\n",
    "# Splitting in 70:15:15 ratio \n",
    "train_path = normal[:249] + anormal[:14]\n",
    "val_path = normal[249:299] + anormal[14:17]\n",
    "test_path = normal[299:] + anormal[17:]\n",
    "\n",
    "# shuffling \n",
    "random.shuffle(train_path)\n",
    "random.shuffle(val_path)\n",
    "random.shuffle(test_path)\n",
    "\n",
    "print(\"-------------------Dataset------------------\")\n",
    "print(\"Total train Images: \",len(train_path))\n",
    "print(\"Total validation Images: \",len(val_path))\n",
    "print(\"Total test Images: \",len(test_path))"
   ]
  },
  {
   "cell_type": "code",
   "execution_count": 6,
   "metadata": {},
   "outputs": [
    {
     "name": "stdout",
     "output_type": "stream",
     "text": [
      "['K:/Docs/stage_ingenieur/models/datas/cxrs/normal\\\\0240.JPEG', 'K:/Docs/stage_ingenieur/models/datas/cxrs/normal\\\\0080.JPEG', 'K:/Docs/stage_ingenieur/models/datas/cxrs/normal\\\\0015.JPEG', 'K:/Docs/stage_ingenieur/models/datas/cxrs/normal\\\\0100.JPEG', 'K:/Docs/stage_ingenieur/models/datas/cxrs/normal\\\\0152.JPEG', 'K:/Docs/stage_ingenieur/models/datas/cxrs/normal\\\\0036.JPEG', 'K:/Docs/stage_ingenieur/models/datas/cxrs/normal\\\\0204.JPEG', 'K:/Docs/stage_ingenieur/models/datas/cxrs/normal\\\\0199.JPEG', 'K:/Docs/stage_ingenieur/models/datas/cxrs/normal\\\\0085.JPEG', 'K:/Docs/stage_ingenieur/models/datas/cxrs/normal\\\\0218.JPEG', 'K:/Docs/stage_ingenieur/models/datas/cxrs/normal\\\\0221.JPEG', 'K:/Docs/stage_ingenieur/models/datas/cxrs/normal\\\\0038.JPEG', 'K:/Docs/stage_ingenieur/models/datas/cxrs/normal\\\\0062.JPEG', 'K:/Docs/stage_ingenieur/models/datas/cxrs/normal\\\\0216.JPEG', 'K:/Docs/stage_ingenieur/models/datas/cxrs/normal\\\\0243.JPEG', 'K:/Docs/stage_ingenieur/models/datas/cxrs/normal\\\\0208.JPEG', 'K:/Docs/stage_ingenieur/models/datas/cxrs/normal\\\\0074.JPEG', 'K:/Docs/stage_ingenieur/models/datas/cxrs/normal\\\\0095.JPEG', 'K:/Docs/stage_ingenieur/models/datas/cxrs/normal\\\\0147.JPEG', 'K:/Docs/stage_ingenieur/models/datas/cxrs/normal\\\\0134.JPEG', 'K:/Docs/stage_ingenieur/models/datas/cxrs/normal\\\\0049.JPEG', 'K:/Docs/stage_ingenieur/models/datas/cxrs/normal\\\\0045.JPEG', 'K:/Docs/stage_ingenieur/models/datas/cxrs/normal\\\\0162.JPEG', 'K:/Docs/stage_ingenieur/models/datas/cxrs/normal\\\\0003.JPEG', 'K:/Docs/stage_ingenieur/models/datas/cxrs/normal\\\\0073.JPEG', 'K:/Docs/stage_ingenieur/models/datas/cxrs/normal\\\\0140.JPEG', 'K:/Docs/stage_ingenieur/models/datas/cxrs/normal\\\\0106.JPEG', 'K:/Docs/stage_ingenieur/models/datas/cxrs/normal\\\\0224.JPEG', 'K:/Docs/stage_ingenieur/models/datas/cxrs/normal\\\\0016.JPEG', 'K:/Docs/stage_ingenieur/models/datas/cxrs/normal\\\\0190.JPEG', 'K:/Docs/stage_ingenieur/models/datas/cxrs/normal\\\\0116.JPEG', 'K:/Docs/stage_ingenieur/models/datas/cxrs/normal\\\\0123.JPEG', 'K:/Docs/stage_ingenieur/models/datas/cxrs/normal\\\\0094.JPEG', 'K:/Docs/stage_ingenieur/models/datas/cxrs/normal\\\\0238.JPEG', 'K:/Docs/stage_ingenieur/models/datas/cxrs/normal\\\\0211.JPEG', 'K:/Docs/stage_ingenieur/models/datas/cxrs/normal\\\\0108.JPEG', 'K:/Docs/stage_ingenieur/models/datas/cxrs/normal\\\\0196.JPEG', 'K:/Docs/stage_ingenieur/models/datas/cxrs/normal\\\\0101.JPEG', 'K:/Docs/stage_ingenieur/models/datas/cxrs/pathological\\\\0013.JPEG', 'K:/Docs/stage_ingenieur/models/datas/cxrs/normal\\\\0072.JPEG', 'K:/Docs/stage_ingenieur/models/datas/cxrs/normal\\\\0034.JPEG', 'K:/Docs/stage_ingenieur/models/datas/cxrs/normal\\\\0109.JPEG', 'K:/Docs/stage_ingenieur/models/datas/cxrs/normal\\\\0142.JPEG', 'K:/Docs/stage_ingenieur/models/datas/cxrs/normal\\\\0246.JPEG', 'K:/Docs/stage_ingenieur/models/datas/cxrs/normal\\\\0203.JPEG', 'K:/Docs/stage_ingenieur/models/datas/cxrs/normal\\\\0058.JPEG', 'K:/Docs/stage_ingenieur/models/datas/cxrs/normal\\\\0081.JPEG', 'K:/Docs/stage_ingenieur/models/datas/cxrs/normal\\\\0068.JPEG', 'K:/Docs/stage_ingenieur/models/datas/cxrs/normal\\\\0057.JPEG', 'K:/Docs/stage_ingenieur/models/datas/cxrs/normal\\\\0111.JPEG', 'K:/Docs/stage_ingenieur/models/datas/cxrs/normal\\\\0126.JPEG', 'K:/Docs/stage_ingenieur/models/datas/cxrs/normal\\\\0084.JPEG', 'K:/Docs/stage_ingenieur/models/datas/cxrs/normal\\\\0206.JPEG', 'K:/Docs/stage_ingenieur/models/datas/cxrs/normal\\\\0163.JPEG', 'K:/Docs/stage_ingenieur/models/datas/cxrs/normal\\\\0087.JPEG', 'K:/Docs/stage_ingenieur/models/datas/cxrs/normal\\\\0180.JPEG', 'K:/Docs/stage_ingenieur/models/datas/cxrs/normal\\\\0035.JPEG', 'K:/Docs/stage_ingenieur/models/datas/cxrs/normal\\\\0082.JPEG', 'K:/Docs/stage_ingenieur/models/datas/cxrs/normal\\\\0067.JPEG', 'K:/Docs/stage_ingenieur/models/datas/cxrs/normal\\\\0104.JPEG', 'K:/Docs/stage_ingenieur/models/datas/cxrs/normal\\\\0156.JPEG', 'K:/Docs/stage_ingenieur/models/datas/cxrs/normal\\\\0053.JPEG', 'K:/Docs/stage_ingenieur/models/datas/cxrs/normal\\\\0063.JPEG', 'K:/Docs/stage_ingenieur/models/datas/cxrs/normal\\\\0092.JPEG', 'K:/Docs/stage_ingenieur/models/datas/cxrs/normal\\\\0093.JPEG', 'K:/Docs/stage_ingenieur/models/datas/cxrs/normal\\\\0105.JPEG', 'K:/Docs/stage_ingenieur/models/datas/cxrs/normal\\\\0189.JPEG', 'K:/Docs/stage_ingenieur/models/datas/cxrs/normal\\\\0006.JPEG', 'K:/Docs/stage_ingenieur/models/datas/cxrs/normal\\\\0138.JPEG', 'K:/Docs/stage_ingenieur/models/datas/cxrs/normal\\\\0239.JPEG', 'K:/Docs/stage_ingenieur/models/datas/cxrs/normal\\\\0161.JPEG', 'K:/Docs/stage_ingenieur/models/datas/cxrs/normal\\\\0096.JPEG', 'K:/Docs/stage_ingenieur/models/datas/cxrs/normal\\\\0001.JPEG', 'K:/Docs/stage_ingenieur/models/datas/cxrs/normal\\\\0181.JPEG', 'K:/Docs/stage_ingenieur/models/datas/cxrs/normal\\\\0192.JPEG', 'K:/Docs/stage_ingenieur/models/datas/cxrs/normal\\\\0114.JPEG', 'K:/Docs/stage_ingenieur/models/datas/cxrs/normal\\\\0227.JPEG', 'K:/Docs/stage_ingenieur/models/datas/cxrs/normal\\\\0225.JPEG', 'K:/Docs/stage_ingenieur/models/datas/cxrs/normal\\\\0022.JPEG', 'K:/Docs/stage_ingenieur/models/datas/cxrs/normal\\\\0187.JPEG', 'K:/Docs/stage_ingenieur/models/datas/cxrs/normal\\\\0219.JPEG', 'K:/Docs/stage_ingenieur/models/datas/cxrs/normal\\\\0229.JPEG', 'K:/Docs/stage_ingenieur/models/datas/cxrs/normal\\\\0197.JPEG', 'K:/Docs/stage_ingenieur/models/datas/cxrs/pathological\\\\0006.JPEG', 'K:/Docs/stage_ingenieur/models/datas/cxrs/normal\\\\0194.JPEG', 'K:/Docs/stage_ingenieur/models/datas/cxrs/normal\\\\0213.JPEG', 'K:/Docs/stage_ingenieur/models/datas/cxrs/normal\\\\0191.JPEG', 'K:/Docs/stage_ingenieur/models/datas/cxrs/normal\\\\0167.JPEG', 'K:/Docs/stage_ingenieur/models/datas/cxrs/normal\\\\0174.JPEG', 'K:/Docs/stage_ingenieur/models/datas/cxrs/pathological\\\\0004.JPEG', 'K:/Docs/stage_ingenieur/models/datas/cxrs/normal\\\\0244.JPEG', 'K:/Docs/stage_ingenieur/models/datas/cxrs/normal\\\\0098.JPEG', 'K:/Docs/stage_ingenieur/models/datas/cxrs/normal\\\\0157.JPEG', 'K:/Docs/stage_ingenieur/models/datas/cxrs/normal\\\\0235.JPEG', 'K:/Docs/stage_ingenieur/models/datas/cxrs/normal\\\\0054.JPEG', 'K:/Docs/stage_ingenieur/models/datas/cxrs/normal\\\\0118.JPEG', 'K:/Docs/stage_ingenieur/models/datas/cxrs/normal\\\\0141.JPEG', 'K:/Docs/stage_ingenieur/models/datas/cxrs/normal\\\\0144.JPEG', 'K:/Docs/stage_ingenieur/models/datas/cxrs/normal\\\\0242.JPEG', 'K:/Docs/stage_ingenieur/models/datas/cxrs/normal\\\\0146.JPEG', 'K:/Docs/stage_ingenieur/models/datas/cxrs/normal\\\\0248.JPEG', 'K:/Docs/stage_ingenieur/models/datas/cxrs/normal\\\\0164.JPEG', 'K:/Docs/stage_ingenieur/models/datas/cxrs/normal\\\\0215.JPEG', 'K:/Docs/stage_ingenieur/models/datas/cxrs/normal\\\\0025.JPEG', 'K:/Docs/stage_ingenieur/models/datas/cxrs/pathological\\\\0008.JPEG', 'K:/Docs/stage_ingenieur/models/datas/cxrs/normal\\\\0193.JPEG', 'K:/Docs/stage_ingenieur/models/datas/cxrs/normal\\\\0026.JPEG', 'K:/Docs/stage_ingenieur/models/datas/cxrs/normal\\\\0237.JPEG', 'K:/Docs/stage_ingenieur/models/datas/cxrs/normal\\\\0231.JPEG', 'K:/Docs/stage_ingenieur/models/datas/cxrs/normal\\\\0010.JPEG', 'K:/Docs/stage_ingenieur/models/datas/cxrs/normal\\\\0110.JPEG', 'K:/Docs/stage_ingenieur/models/datas/cxrs/normal\\\\0033.JPEG', 'K:/Docs/stage_ingenieur/models/datas/cxrs/normal\\\\0075.JPEG', 'K:/Docs/stage_ingenieur/models/datas/cxrs/normal\\\\0009.JPEG', 'K:/Docs/stage_ingenieur/models/datas/cxrs/normal\\\\0059.JPEG', 'K:/Docs/stage_ingenieur/models/datas/cxrs/normal\\\\0135.JPEG', 'K:/Docs/stage_ingenieur/models/datas/cxrs/normal\\\\0137.JPEG', 'K:/Docs/stage_ingenieur/models/datas/cxrs/normal\\\\0165.JPEG', 'K:/Docs/stage_ingenieur/models/datas/cxrs/normal\\\\0130.JPEG', 'K:/Docs/stage_ingenieur/models/datas/cxrs/normal\\\\0159.JPEG', 'K:/Docs/stage_ingenieur/models/datas/cxrs/normal\\\\0148.JPEG', 'K:/Docs/stage_ingenieur/models/datas/cxrs/normal\\\\0065.JPEG', 'K:/Docs/stage_ingenieur/models/datas/cxrs/normal\\\\0185.JPEG', 'K:/Docs/stage_ingenieur/models/datas/cxrs/normal\\\\0207.JPEG', 'K:/Docs/stage_ingenieur/models/datas/cxrs/normal\\\\0103.JPEG', 'K:/Docs/stage_ingenieur/models/datas/cxrs/normal\\\\0241.JPEG', 'K:/Docs/stage_ingenieur/models/datas/cxrs/normal\\\\0228.JPEG', 'K:/Docs/stage_ingenieur/models/datas/cxrs/normal\\\\0013.JPEG', 'K:/Docs/stage_ingenieur/models/datas/cxrs/normal\\\\0055.JPEG', 'K:/Docs/stage_ingenieur/models/datas/cxrs/normal\\\\0102.JPEG', 'K:/Docs/stage_ingenieur/models/datas/cxrs/normal\\\\0021.JPEG', 'K:/Docs/stage_ingenieur/models/datas/cxrs/normal\\\\0205.JPEG', 'K:/Docs/stage_ingenieur/models/datas/cxrs/normal\\\\0115.JPEG', 'K:/Docs/stage_ingenieur/models/datas/cxrs/normal\\\\0083.JPEG', 'K:/Docs/stage_ingenieur/models/datas/cxrs/normal\\\\0176.JPEG', 'K:/Docs/stage_ingenieur/models/datas/cxrs/normal\\\\0214.JPEG', 'K:/Docs/stage_ingenieur/models/datas/cxrs/normal\\\\0041.JPEG', 'K:/Docs/stage_ingenieur/models/datas/cxrs/normal\\\\0028.JPEG', 'K:/Docs/stage_ingenieur/models/datas/cxrs/normal\\\\0186.JPEG', 'K:/Docs/stage_ingenieur/models/datas/cxrs/normal\\\\0050.JPEG', 'K:/Docs/stage_ingenieur/models/datas/cxrs/normal\\\\0066.JPEG', 'K:/Docs/stage_ingenieur/models/datas/cxrs/normal\\\\0198.JPEG', 'K:/Docs/stage_ingenieur/models/datas/cxrs/normal\\\\0236.JPEG', 'K:/Docs/stage_ingenieur/models/datas/cxrs/normal\\\\0027.JPEG', 'K:/Docs/stage_ingenieur/models/datas/cxrs/normal\\\\0184.JPEG', 'K:/Docs/stage_ingenieur/models/datas/cxrs/normal\\\\0031.JPEG', 'K:/Docs/stage_ingenieur/models/datas/cxrs/normal\\\\0112.JPEG', 'K:/Docs/stage_ingenieur/models/datas/cxrs/normal\\\\0178.JPEG', 'K:/Docs/stage_ingenieur/models/datas/cxrs/normal\\\\0048.JPEG', 'K:/Docs/stage_ingenieur/models/datas/cxrs/normal\\\\0032.JPEG', 'K:/Docs/stage_ingenieur/models/datas/cxrs/normal\\\\0177.JPEG', 'K:/Docs/stage_ingenieur/models/datas/cxrs/normal\\\\0076.JPEG', 'K:/Docs/stage_ingenieur/models/datas/cxrs/normal\\\\0155.JPEG', 'K:/Docs/stage_ingenieur/models/datas/cxrs/normal\\\\0133.JPEG', 'K:/Docs/stage_ingenieur/models/datas/cxrs/normal\\\\0113.JPEG', 'K:/Docs/stage_ingenieur/models/datas/cxrs/normal\\\\0044.JPEG', 'K:/Docs/stage_ingenieur/models/datas/cxrs/normal\\\\0153.JPEG', 'K:/Docs/stage_ingenieur/models/datas/cxrs/normal\\\\0121.JPEG', 'K:/Docs/stage_ingenieur/models/datas/cxrs/normal\\\\0223.JPEG', 'K:/Docs/stage_ingenieur/models/datas/cxrs/normal\\\\0200.JPEG', 'K:/Docs/stage_ingenieur/models/datas/cxrs/normal\\\\0230.JPEG', 'K:/Docs/stage_ingenieur/models/datas/cxrs/normal\\\\0150.JPEG', 'K:/Docs/stage_ingenieur/models/datas/cxrs/normal\\\\0088.JPEG', 'K:/Docs/stage_ingenieur/models/datas/cxrs/normal\\\\0127.JPEG', 'K:/Docs/stage_ingenieur/models/datas/cxrs/normal\\\\0090.JPEG', 'K:/Docs/stage_ingenieur/models/datas/cxrs/normal\\\\0099.JPEG', 'K:/Docs/stage_ingenieur/models/datas/cxrs/normal\\\\0145.JPEG', 'K:/Docs/stage_ingenieur/models/datas/cxrs/normal\\\\0175.JPEG', 'K:/Docs/stage_ingenieur/models/datas/cxrs/normal\\\\0245.JPEG', 'K:/Docs/stage_ingenieur/models/datas/cxrs/normal\\\\0201.JPEG', 'K:/Docs/stage_ingenieur/models/datas/cxrs/normal\\\\0077.JPEG', 'K:/Docs/stage_ingenieur/models/datas/cxrs/normal\\\\0040.JPEG', 'K:/Docs/stage_ingenieur/models/datas/cxrs/normal\\\\0222.JPEG', 'K:/Docs/stage_ingenieur/models/datas/cxrs/normal\\\\0046.JPEG', 'K:/Docs/stage_ingenieur/models/datas/cxrs/normal\\\\0179.JPEG', 'K:/Docs/stage_ingenieur/models/datas/cxrs/normal\\\\0170.JPEG', 'K:/Docs/stage_ingenieur/models/datas/cxrs/normal\\\\0071.JPEG', 'K:/Docs/stage_ingenieur/models/datas/cxrs/normal\\\\0107.JPEG', 'K:/Docs/stage_ingenieur/models/datas/cxrs/normal\\\\0011.JPEG', 'K:/Docs/stage_ingenieur/models/datas/cxrs/normal\\\\0210.JPEG', 'K:/Docs/stage_ingenieur/models/datas/cxrs/normal\\\\0079.JPEG', 'K:/Docs/stage_ingenieur/models/datas/cxrs/normal\\\\0172.JPEG', 'K:/Docs/stage_ingenieur/models/datas/cxrs/normal\\\\0188.JPEG', 'K:/Docs/stage_ingenieur/models/datas/cxrs/normal\\\\0209.JPEG', 'K:/Docs/stage_ingenieur/models/datas/cxrs/normal\\\\0029.JPEG', 'K:/Docs/stage_ingenieur/models/datas/cxrs/pathological\\\\0001.JPEG', 'K:/Docs/stage_ingenieur/models/datas/cxrs/normal\\\\0007.JPEG', 'K:/Docs/stage_ingenieur/models/datas/cxrs/pathological\\\\0003.JPEG', 'K:/Docs/stage_ingenieur/models/datas/cxrs/normal\\\\0056.JPEG', 'K:/Docs/stage_ingenieur/models/datas/cxrs/normal\\\\0220.JPEG', 'K:/Docs/stage_ingenieur/models/datas/cxrs/normal\\\\0195.JPEG', 'K:/Docs/stage_ingenieur/models/datas/cxrs/normal\\\\0042.JPEG', 'K:/Docs/stage_ingenieur/models/datas/cxrs/normal\\\\0128.JPEG', 'K:/Docs/stage_ingenieur/models/datas/cxrs/normal\\\\0151.JPEG', 'K:/Docs/stage_ingenieur/models/datas/cxrs/normal\\\\0020.JPEG', 'K:/Docs/stage_ingenieur/models/datas/cxrs/normal\\\\0014.JPEG', 'K:/Docs/stage_ingenieur/models/datas/cxrs/pathological\\\\0009.JPEG', 'K:/Docs/stage_ingenieur/models/datas/cxrs/normal\\\\0097.JPEG', 'K:/Docs/stage_ingenieur/models/datas/cxrs/normal\\\\0169.JPEG', 'K:/Docs/stage_ingenieur/models/datas/cxrs/normal\\\\0122.JPEG', 'K:/Docs/stage_ingenieur/models/datas/cxrs/pathological\\\\0007.JPEG', 'K:/Docs/stage_ingenieur/models/datas/cxrs/normal\\\\0037.JPEG', 'K:/Docs/stage_ingenieur/models/datas/cxrs/normal\\\\0086.JPEG', 'K:/Docs/stage_ingenieur/models/datas/cxrs/normal\\\\0002.JPEG', 'K:/Docs/stage_ingenieur/models/datas/cxrs/normal\\\\0019.JPEG', 'K:/Docs/stage_ingenieur/models/datas/cxrs/normal\\\\0131.JPEG', 'K:/Docs/stage_ingenieur/models/datas/cxrs/pathological\\\\0002.JPEG', 'K:/Docs/stage_ingenieur/models/datas/cxrs/normal\\\\0232.JPEG', 'K:/Docs/stage_ingenieur/models/datas/cxrs/normal\\\\0136.JPEG', 'K:/Docs/stage_ingenieur/models/datas/cxrs/normal\\\\0117.JPEG', 'K:/Docs/stage_ingenieur/models/datas/cxrs/normal\\\\0052.JPEG', 'K:/Docs/stage_ingenieur/models/datas/cxrs/normal\\\\0168.JPEG', 'K:/Docs/stage_ingenieur/models/datas/cxrs/normal\\\\0234.JPEG', 'K:/Docs/stage_ingenieur/models/datas/cxrs/normal\\\\0069.JPEG', 'K:/Docs/stage_ingenieur/models/datas/cxrs/normal\\\\0091.JPEG', 'K:/Docs/stage_ingenieur/models/datas/cxrs/normal\\\\0247.JPEG', 'K:/Docs/stage_ingenieur/models/datas/cxrs/normal\\\\0078.JPEG', 'K:/Docs/stage_ingenieur/models/datas/cxrs/normal\\\\0249.JPEG', 'K:/Docs/stage_ingenieur/models/datas/cxrs/normal\\\\0233.JPEG', 'K:/Docs/stage_ingenieur/models/datas/cxrs/normal\\\\0143.JPEG', 'K:/Docs/stage_ingenieur/models/datas/cxrs/normal\\\\0212.JPEG', 'K:/Docs/stage_ingenieur/models/datas/cxrs/normal\\\\0070.JPEG', 'K:/Docs/stage_ingenieur/models/datas/cxrs/normal\\\\0012.JPEG', 'K:/Docs/stage_ingenieur/models/datas/cxrs/normal\\\\0149.JPEG', 'K:/Docs/stage_ingenieur/models/datas/cxrs/normal\\\\0132.JPEG', 'K:/Docs/stage_ingenieur/models/datas/cxrs/normal\\\\0023.JPEG', 'K:/Docs/stage_ingenieur/models/datas/cxrs/normal\\\\0173.JPEG', 'K:/Docs/stage_ingenieur/models/datas/cxrs/normal\\\\0154.JPEG', 'K:/Docs/stage_ingenieur/models/datas/cxrs/pathological\\\\0010.JPEG', 'K:/Docs/stage_ingenieur/models/datas/cxrs/normal\\\\0120.JPEG', 'K:/Docs/stage_ingenieur/models/datas/cxrs/normal\\\\0139.JPEG', 'K:/Docs/stage_ingenieur/models/datas/cxrs/normal\\\\0171.JPEG', 'K:/Docs/stage_ingenieur/models/datas/cxrs/normal\\\\0017.JPEG', 'K:/Docs/stage_ingenieur/models/datas/cxrs/normal\\\\0064.JPEG', 'K:/Docs/stage_ingenieur/models/datas/cxrs/pathological\\\\0014.JPEG', 'K:/Docs/stage_ingenieur/models/datas/cxrs/normal\\\\0125.JPEG', 'K:/Docs/stage_ingenieur/models/datas/cxrs/normal\\\\0129.JPEG', 'K:/Docs/stage_ingenieur/models/datas/cxrs/pathological\\\\0012.JPEG', 'K:/Docs/stage_ingenieur/models/datas/cxrs/normal\\\\0217.JPEG', 'K:/Docs/stage_ingenieur/models/datas/cxrs/normal\\\\0030.JPEG', 'K:/Docs/stage_ingenieur/models/datas/cxrs/normal\\\\0183.JPEG', 'K:/Docs/stage_ingenieur/models/datas/cxrs/pathological\\\\0011.JPEG', 'K:/Docs/stage_ingenieur/models/datas/cxrs/normal\\\\0024.JPEG', 'K:/Docs/stage_ingenieur/models/datas/cxrs/normal\\\\0039.JPEG', 'K:/Docs/stage_ingenieur/models/datas/cxrs/normal\\\\0119.JPEG', 'K:/Docs/stage_ingenieur/models/datas/cxrs/normal\\\\0158.JPEG', 'K:/Docs/stage_ingenieur/models/datas/cxrs/normal\\\\0124.JPEG', 'K:/Docs/stage_ingenieur/models/datas/cxrs/normal\\\\0160.JPEG', 'K:/Docs/stage_ingenieur/models/datas/cxrs/normal\\\\0166.JPEG', 'K:/Docs/stage_ingenieur/models/datas/cxrs/normal\\\\0089.JPEG', 'K:/Docs/stage_ingenieur/models/datas/cxrs/pathological\\\\0005.JPEG', 'K:/Docs/stage_ingenieur/models/datas/cxrs/normal\\\\0202.JPEG', 'K:/Docs/stage_ingenieur/models/datas/cxrs/normal\\\\0008.JPEG', 'K:/Docs/stage_ingenieur/models/datas/cxrs/normal\\\\0005.JPEG', 'K:/Docs/stage_ingenieur/models/datas/cxrs/normal\\\\0061.JPEG', 'K:/Docs/stage_ingenieur/models/datas/cxrs/normal\\\\0182.JPEG', 'K:/Docs/stage_ingenieur/models/datas/cxrs/normal\\\\0051.JPEG', 'K:/Docs/stage_ingenieur/models/datas/cxrs/normal\\\\0043.JPEG', 'K:/Docs/stage_ingenieur/models/datas/cxrs/normal\\\\0018.JPEG', 'K:/Docs/stage_ingenieur/models/datas/cxrs/normal\\\\0047.JPEG', 'K:/Docs/stage_ingenieur/models/datas/cxrs/normal\\\\0004.JPEG', 'K:/Docs/stage_ingenieur/models/datas/cxrs/normal\\\\0060.JPEG', 'K:/Docs/stage_ingenieur/models/datas/cxrs/normal\\\\0226.JPEG']\n",
      "['K:/Docs/stage_ingenieur/models/datas/cxrs/normal\\\\0265.JPEG', 'K:/Docs/stage_ingenieur/models/datas/cxrs/normal\\\\0270.JPEG', 'K:/Docs/stage_ingenieur/models/datas/cxrs/normal\\\\0278.JPEG', 'K:/Docs/stage_ingenieur/models/datas/cxrs/normal\\\\0285.JPEG', 'K:/Docs/stage_ingenieur/models/datas/cxrs/normal\\\\0283.JPEG', 'K:/Docs/stage_ingenieur/models/datas/cxrs/normal\\\\0295.JPEG', 'K:/Docs/stage_ingenieur/models/datas/cxrs/normal\\\\0263.JPEG', 'K:/Docs/stage_ingenieur/models/datas/cxrs/normal\\\\0284.JPEG', 'K:/Docs/stage_ingenieur/models/datas/cxrs/normal\\\\0259.JPEG', 'K:/Docs/stage_ingenieur/models/datas/cxrs/normal\\\\0261.JPEG', 'K:/Docs/stage_ingenieur/models/datas/cxrs/normal\\\\0276.JPEG', 'K:/Docs/stage_ingenieur/models/datas/cxrs/normal\\\\0250.JPEG', 'K:/Docs/stage_ingenieur/models/datas/cxrs/normal\\\\0277.JPEG', 'K:/Docs/stage_ingenieur/models/datas/cxrs/normal\\\\0255.JPEG', 'K:/Docs/stage_ingenieur/models/datas/cxrs/normal\\\\0297.JPEG', 'K:/Docs/stage_ingenieur/models/datas/cxrs/normal\\\\0257.JPEG', 'K:/Docs/stage_ingenieur/models/datas/cxrs/normal\\\\0253.JPEG', 'K:/Docs/stage_ingenieur/models/datas/cxrs/normal\\\\0298.JPEG', 'K:/Docs/stage_ingenieur/models/datas/cxrs/normal\\\\0274.JPEG', 'K:/Docs/stage_ingenieur/models/datas/cxrs/normal\\\\0293.JPEG', 'K:/Docs/stage_ingenieur/models/datas/cxrs/normal\\\\0291.JPEG', 'K:/Docs/stage_ingenieur/models/datas/cxrs/normal\\\\0264.JPEG', 'K:/Docs/stage_ingenieur/models/datas/cxrs/normal\\\\0294.JPEG', 'K:/Docs/stage_ingenieur/models/datas/cxrs/normal\\\\0275.JPEG', 'K:/Docs/stage_ingenieur/models/datas/cxrs/normal\\\\0266.JPEG', 'K:/Docs/stage_ingenieur/models/datas/cxrs/normal\\\\0260.JPEG', 'K:/Docs/stage_ingenieur/models/datas/cxrs/normal\\\\0299.JPEG', 'K:/Docs/stage_ingenieur/models/datas/cxrs/normal\\\\0286.JPEG', 'K:/Docs/stage_ingenieur/models/datas/cxrs/normal\\\\0288.JPEG', 'K:/Docs/stage_ingenieur/models/datas/cxrs/normal\\\\0281.JPEG', 'K:/Docs/stage_ingenieur/models/datas/cxrs/normal\\\\0252.JPEG', 'K:/Docs/stage_ingenieur/models/datas/cxrs/normal\\\\0267.JPEG', 'K:/Docs/stage_ingenieur/models/datas/cxrs/normal\\\\0282.JPEG', 'K:/Docs/stage_ingenieur/models/datas/cxrs/normal\\\\0262.JPEG', 'K:/Docs/stage_ingenieur/models/datas/cxrs/normal\\\\0290.JPEG', 'K:/Docs/stage_ingenieur/models/datas/cxrs/normal\\\\0289.JPEG', 'K:/Docs/stage_ingenieur/models/datas/cxrs/normal\\\\0269.JPEG', 'K:/Docs/stage_ingenieur/models/datas/cxrs/normal\\\\0268.JPEG', 'K:/Docs/stage_ingenieur/models/datas/cxrs/normal\\\\0272.JPEG', 'K:/Docs/stage_ingenieur/models/datas/cxrs/normal\\\\0271.JPEG', 'K:/Docs/stage_ingenieur/models/datas/cxrs/normal\\\\0287.JPEG', 'K:/Docs/stage_ingenieur/models/datas/cxrs/normal\\\\0258.JPEG', 'K:/Docs/stage_ingenieur/models/datas/cxrs/normal\\\\0254.JPEG', 'K:/Docs/stage_ingenieur/models/datas/cxrs/normal\\\\0280.JPEG', 'K:/Docs/stage_ingenieur/models/datas/cxrs/normal\\\\0273.JPEG', 'K:/Docs/stage_ingenieur/models/datas/cxrs/pathological\\\\0016.JPEG', 'K:/Docs/stage_ingenieur/models/datas/cxrs/normal\\\\0256.JPEG', 'K:/Docs/stage_ingenieur/models/datas/cxrs/pathological\\\\0017.JPEG', 'K:/Docs/stage_ingenieur/models/datas/cxrs/normal\\\\0279.JPEG', 'K:/Docs/stage_ingenieur/models/datas/cxrs/normal\\\\0296.JPEG', 'K:/Docs/stage_ingenieur/models/datas/cxrs/pathological\\\\0015.JPEG', 'K:/Docs/stage_ingenieur/models/datas/cxrs/normal\\\\0251.JPEG', 'K:/Docs/stage_ingenieur/models/datas/cxrs/normal\\\\0292.JPEG']\n",
      "['K:/Docs/stage_ingenieur/models/datas/cxrs/normal\\\\0320.JPEG', 'K:/Docs/stage_ingenieur/models/datas/cxrs/normal\\\\anonymes', 'K:/Docs/stage_ingenieur/models/datas/cxrs/normal\\\\0303.JPEG', 'K:/Docs/stage_ingenieur/models/datas/cxrs/normal\\\\0328.JPEG', 'K:/Docs/stage_ingenieur/models/datas/cxrs/normal\\\\0306.JPEG', 'K:/Docs/stage_ingenieur/models/datas/cxrs/normal\\\\0311.JPEG', 'K:/Docs/stage_ingenieur/models/datas/cxrs/normal\\\\0300.JPEG', 'K:/Docs/stage_ingenieur/models/datas/cxrs/normal\\\\0318.JPEG', 'K:/Docs/stage_ingenieur/models/datas/cxrs/normal\\\\0310.JPEG', 'K:/Docs/stage_ingenieur/models/datas/cxrs/normal\\\\0309.JPEG', 'K:/Docs/stage_ingenieur/models/datas/cxrs/normal\\\\0308.JPEG', 'K:/Docs/stage_ingenieur/models/datas/cxrs/normal\\\\0326.JPEG', 'K:/Docs/stage_ingenieur/models/datas/cxrs/pathological\\\\anonymes', 'K:/Docs/stage_ingenieur/models/datas/cxrs/pathological\\\\labelbox', 'K:/Docs/stage_ingenieur/models/datas/cxrs/normal\\\\0313.JPEG', 'K:/Docs/stage_ingenieur/models/datas/cxrs/normal\\\\0312.JPEG', 'K:/Docs/stage_ingenieur/models/datas/cxrs/pathological\\\\masks', 'K:/Docs/stage_ingenieur/models/datas/cxrs/normal\\\\0330.JPEG', 'K:/Docs/stage_ingenieur/models/datas/cxrs/normal\\\\0307.JPEG', 'K:/Docs/stage_ingenieur/models/datas/cxrs/normal\\\\0324.JPEG', 'K:/Docs/stage_ingenieur/models/datas/cxrs/normal\\\\0325.JPEG', 'K:/Docs/stage_ingenieur/models/datas/cxrs/normal\\\\0302.JPEG', 'K:/Docs/stage_ingenieur/models/datas/cxrs/normal\\\\0323.JPEG', 'K:/Docs/stage_ingenieur/models/datas/cxrs/pathological\\\\segmented', 'K:/Docs/stage_ingenieur/models/datas/cxrs/normal\\\\0317.JPEG', 'K:/Docs/stage_ingenieur/models/datas/cxrs/normal\\\\0304.JPEG', 'K:/Docs/stage_ingenieur/models/datas/cxrs/normal\\\\0327.JPEG', 'K:/Docs/stage_ingenieur/models/datas/cxrs/pathological\\\\0019.JPEG', 'K:/Docs/stage_ingenieur/models/datas/cxrs/normal\\\\0329.JPEG', 'K:/Docs/stage_ingenieur/models/datas/cxrs/normal\\\\0315.JPEG', 'K:/Docs/stage_ingenieur/models/datas/cxrs/pathological\\\\0018.JPEG', 'K:/Docs/stage_ingenieur/models/datas/cxrs/pathological\\\\grayscale_mask', 'K:/Docs/stage_ingenieur/models/datas/cxrs/normal\\\\0321.JPEG', 'K:/Docs/stage_ingenieur/models/datas/cxrs/normal\\\\0301.JPEG', 'K:/Docs/stage_ingenieur/models/datas/cxrs/normal\\\\0305.JPEG', 'K:/Docs/stage_ingenieur/models/datas/cxrs/normal\\\\0332.JPEG', 'K:/Docs/stage_ingenieur/models/datas/cxrs/normal\\\\0322.JPEG', 'K:/Docs/stage_ingenieur/models/datas/cxrs/normal\\\\0314.JPEG', 'K:/Docs/stage_ingenieur/models/datas/cxrs/pathological\\\\anonymes - Copy', 'K:/Docs/stage_ingenieur/models/datas/cxrs/normal\\\\0331.JPEG', 'K:/Docs/stage_ingenieur/models/datas/cxrs/normal\\\\0316.JPEG', 'K:/Docs/stage_ingenieur/models/datas/cxrs/normal\\\\0319.JPEG']\n"
     ]
    }
   ],
   "source": [
    "print(train_path)\n",
    "print(val_path)\n",
    "print(test_path)"
   ]
  },
  {
   "cell_type": "code",
   "execution_count": 7,
   "metadata": {},
   "outputs": [],
   "source": [
    "data_transforms = {\n",
    "    'train': transforms.Compose([\n",
    "        # transforms.RandomResizedCrop(size=256, scale=(0.8, 1.0)),\n",
    "        transforms.Resize(256),\n",
    "        transforms.RandomRotation(degrees=15),\n",
    "        transforms.RandomHorizontalFlip(),\n",
    "        transforms.CenterCrop(size=224),\n",
    "        transforms.ToTensor(),\n",
    "        transforms.Normalize([0.485, 0.456, 0.406], [0.229, 0.224, 0.225])\n",
    "    ]),\n",
    "    'others': transforms.Compose([\n",
    "        transforms.Resize(256),\n",
    "        transforms.CenterCrop(224),\n",
    "        transforms.ToTensor(),\n",
    "        transforms.Normalize([0.485, 0.456, 0.406], [0.229, 0.224, 0.225])\n",
    "    ]),\n",
    "}"
   ]
  },
  {
   "cell_type": "code",
   "execution_count": 8,
   "metadata": {},
   "outputs": [],
   "source": [
    "\"\"\" \n",
    "label 0 = normal\n",
    "label 1 = no normal\n",
    "\n",
    "After that, we used this class to create datasets for train, validation, and test data using specific \n",
    "transforms for each and created DataLoader objects for each dataset with batch size of 32.\n",
    "\n",
    "\"\"\"\n",
    "class CXR_Dataset(Dataset):\n",
    "    def __init__(self, images, transform=None):\n",
    "        self.img_paths = images\n",
    "        self.img_labels = [0 if \"normal\" in img else 1 for img in self.img_paths]\n",
    "        self.transform = transform\n",
    "\n",
    "    def __len__(self):\n",
    "        return len(self.img_labels)\n",
    "\n",
    "    def __getitem__(self, idx):\n",
    "        # get the image path and label for the specified index\n",
    "        img_path = self.img_paths[idx]\n",
    "        label = self.img_labels[idx]\n",
    "\n",
    "        # load the image from the path\n",
    "        image = Image.open(img_path)\n",
    "        image = image.convert(\"RGB\")\n",
    "\n",
    "        # apply transform\n",
    "        if self.transform:\n",
    "            image = self.transform(image)\n",
    "        \n",
    "        # return the image and label as a tuple\n",
    "        return image, label\n",
    "\n",
    "# Dataset for train, valid and test\n",
    "train_data = CXR_Dataset(train_path, transform = data_transforms[\"train\"]) \n",
    "valid_data = CXR_Dataset(val_path, transform = data_transforms[\"others\"]) \n",
    "test_data = CXR_Dataset(test_path, transform = data_transforms[\"others\"]) \n",
    "\n",
    "# Dataloader for train, valid and test\n",
    "train_dataloader = DataLoader(train_data, batch_size=1, shuffle=True)\n",
    "valid_dataloader = DataLoader(valid_data, batch_size=1, shuffle=True)\n",
    "test_dataloader = DataLoader(test_data, batch_size=1, shuffle=True)"
   ]
  },
  {
   "cell_type": "code",
   "execution_count": 12,
   "metadata": {},
   "outputs": [
    {
     "data": {
      "image/png": "[encoded data removed]",
      "text/plain": [
       "<Figure size 640x480 with 1 Axes>"
      ]
     },
     "metadata": {},
     "output_type": "display_data"
    }
   ],
   "source": [
    "import matplotlib.pyplot as plt\n",
    "normal_size = len(normal_df)\n",
    "anormal_size = len(anormal_df)\n",
    "sizes = [normal_size, anormal_size]\n",
    "\n",
    "plt.bar(['Normal', 'Anormal'], sizes)\n",
    "\n",
    "plt.xlabel('labels')\n",
    "plt.ylabel('nombre images')\n",
    "plt.title('elements dans chaque classe')\n",
    "\n",
    "plt.show()"
   ]
  },
  {
   "cell_type": "code",
   "execution_count": 13,
   "metadata": {},
   "outputs": [
    {
     "data": {
      "image/png": "[encoded data removed]",
      "text/plain": [
       "<Figure size 640x480 with 1 Axes>"
      ]
     },
     "metadata": {},
     "output_type": "display_data"
    }
   ],
   "source": [
    "# Get the number of data points in each dataset\n",
    "train_size = len(train_data)\n",
    "valid_size = len(valid_data)\n",
    "test_size = len(test_data) \n",
    "\n",
    "# Create a list of the sizes of each dataset\n",
    "sizes = [train_size, valid_size, test_size]\n",
    "\n",
    "# Create a bar plot with the sizes of the datasets\n",
    "plt.bar(['train', 'validation', 'test'], sizes)\n",
    "\n",
    "# Add labels and title to the plot\n",
    "plt.xlabel('repartition')\n",
    "plt.ylabel('Nombre')\n",
    "plt.title('nombre dans chaque classe')\n",
    "\n",
    "# Show the plot\n",
    "plt.show()"
   ]
  },
  {
   "cell_type": "code",
   "execution_count": 11,
   "metadata": {},
   "outputs": [
    {
     "name": "stdout",
     "output_type": "stream",
     "text": [
      "<torch.utils.data.dataloader.DataLoader object at 0x000002ABACC75D50>\n"
     ]
    }
   ],
   "source": [
    "print(train_dataloader)"
   ]
  },
  {
   "cell_type": "code",
   "execution_count": 44,
   "metadata": {},
   "outputs": [
    {
     "name": "stdout",
     "output_type": "stream",
     "text": [
      "tensor([0])\n"
     ]
    },
    {
     "ename": "IndexError",
     "evalue": "index 1 is out of bounds for dimension 0 with size 1",
     "output_type": "error",
     "traceback": [
      "\u001b[1;31m---------------------------------------------------------------------------\u001b[0m",
      "\u001b[1;31mIndexError\u001b[0m                                Traceback (most recent call last)",
      "\u001b[1;32mk:\\Docs\\stage_ingenieur\\models\\classification\\model.ipynb Cell 12\u001b[0m line \u001b[0;36m1\n\u001b[0;32m      <a href='vscode-notebook-cell:/k%3A/Docs/stage_ingenieur/models/classification/model.ipynb#X14sZmlsZQ%3D%3D?line=7'>8</a>\u001b[0m \u001b[39m# Plot the images in the subplots\u001b[39;00m\n\u001b[0;32m      <a href='vscode-notebook-cell:/k%3A/Docs/stage_ingenieur/models/classification/model.ipynb#X14sZmlsZQ%3D%3D?line=8'>9</a>\u001b[0m \u001b[39mfor\u001b[39;00m i, ax \u001b[39min\u001b[39;00m \u001b[39menumerate\u001b[39m(axs\u001b[39m.\u001b[39mflat):\n\u001b[0;32m     <a href='vscode-notebook-cell:/k%3A/Docs/stage_ingenieur/models/classification/model.ipynb#X14sZmlsZQ%3D%3D?line=9'>10</a>\u001b[0m     \u001b[39m# Get the image and label for the current subplot\u001b[39;00m\n\u001b[1;32m---> <a href='vscode-notebook-cell:/k%3A/Docs/stage_ingenieur/models/classification/model.ipynb#X14sZmlsZQ%3D%3D?line=10'>11</a>\u001b[0m     image, label \u001b[39m=\u001b[39m data[i], labels[i]\n\u001b[0;32m     <a href='vscode-notebook-cell:/k%3A/Docs/stage_ingenieur/models/classification/model.ipynb#X14sZmlsZQ%3D%3D?line=12'>13</a>\u001b[0m     \u001b[39m# Convert the image to a numpy array and plot it\u001b[39;00m\n\u001b[0;32m     <a href='vscode-notebook-cell:/k%3A/Docs/stage_ingenieur/models/classification/model.ipynb#X14sZmlsZQ%3D%3D?line=13'>14</a>\u001b[0m     img \u001b[39m=\u001b[39m image\u001b[39m.\u001b[39mnumpy()\u001b[39m.\u001b[39mtranspose((\u001b[39m1\u001b[39m, \u001b[39m2\u001b[39m, \u001b[39m0\u001b[39m))\n",
      "\u001b[1;31mIndexError\u001b[0m: index 1 is out of bounds for dimension 0 with size 1"
     ]
    },
    {
     "data": {
      "image/png": "[encoded data removed]",
      "text/plain": [
       "<Figure size 2000x1200 with 15 Axes>"
      ]
     },
     "metadata": {},
     "output_type": "display_data"
    }
   ],
   "source": [
    "# Load your data using a PyTorch dataloader\n",
    "data, labels = next(iter(train_dataloader))\n",
    "print(labels)\n",
    "\n",
    "# Create a figure with a grid of subplots\n",
    "fig, axs = plt.subplots(nrows=3, ncols=5,figsize=(20, 12))\n",
    "\n",
    "# Plot the images in the subplots\n",
    "for i, ax in enumerate(axs.flat):\n",
    "    # Get the image and label for the current subplot\n",
    "    image, label = data[i], labels[i]\n",
    "    \n",
    "    # Convert the image to a numpy array and plot it\n",
    "    img = image.numpy().transpose((1, 2, 0))\n",
    "    # mean = np.array([0.485, 0.456, 0.406])\n",
    "    # std = np.array([0.229, 0.224, 0.225])\n",
    "    # img = std * img + mean\n",
    "    img = np.clip(img, 0, 1)\n",
    "\n",
    "    ax.imshow(img)\n",
    "    \n",
    "    # Set the title of the subplot to the label\n",
    "    ax.set_title(label)\n",
    "\n",
    "# Show the plot\n",
    "plt.show()"
   ]
  },
  {
   "cell_type": "code",
   "execution_count": 47,
   "metadata": {},
   "outputs": [
    {
     "data": {
      "text/plain": [
       "CXR_DenseNetModel(\n",
       "  (model): DenseNet(\n",
       "    (features): Sequential(\n",
       "      (conv0): Conv2d(3, 64, kernel_size=(7, 7), stride=(2, 2), padding=(3, 3), bias=False)\n",
       "      (norm0): BatchNorm2d(64, eps=1e-05, momentum=0.1, affine=True, track_running_stats=True)\n",
       "      (relu0): ReLU(inplace=True)\n",
       "      (pool0): MaxPool2d(kernel_size=3, stride=2, padding=1, dilation=1, ceil_mode=False)\n",
       "      (denseblock1): _DenseBlock(\n",
       "        (denselayer1): _DenseLayer(\n",
       "          (norm1): BatchNorm2d(64, eps=1e-05, momentum=0.1, affine=True, track_running_stats=True)\n",
       "          (relu1): ReLU(inplace=True)\n",
       "          (conv1): Conv2d(64, 128, kernel_size=(1, 1), stride=(1, 1), bias=False)\n",
       "          (norm2): BatchNorm2d(128, eps=1e-05, momentum=0.1, affine=True, track_running_stats=True)\n",
       "          (relu2): ReLU(inplace=True)\n",
       "          (conv2): Conv2d(128, 32, kernel_size=(3, 3), stride=(1, 1), padding=(1, 1), bias=False)\n",
       "        )\n",
       "        (denselayer2): _DenseLayer(\n",
       "          (norm1): BatchNorm2d(96, eps=1e-05, momentum=0.1, affine=True, track_running_stats=True)\n",
       "          (relu1): ReLU(inplace=True)\n",
       "          (conv1): Conv2d(96, 128, kernel_size=(1, 1), stride=(1, 1), bias=False)\n",
       "          (norm2): BatchNorm2d(128, eps=1e-05, momentum=0.1, affine=True, track_running_stats=True)\n",
       "          (relu2): ReLU(inplace=True)\n",
       "          (conv2): Conv2d(128, 32, kernel_size=(3, 3), stride=(1, 1), padding=(1, 1), bias=False)\n",
       "        )\n",
       "        (denselayer3): _DenseLayer(\n",
       "          (norm1): BatchNorm2d(128, eps=1e-05, momentum=0.1, affine=True, track_running_stats=True)\n",
       "          (relu1): ReLU(inplace=True)\n",
       "          (conv1): Conv2d(128, 128, kernel_size=(1, 1), stride=(1, 1), bias=False)\n",
       "          (norm2): BatchNorm2d(128, eps=1e-05, momentum=0.1, affine=True, track_running_stats=True)\n",
       "          (relu2): ReLU(inplace=True)\n",
       "          (conv2): Conv2d(128, 32, kernel_size=(3, 3), stride=(1, 1), padding=(1, 1), bias=False)\n",
       "        )\n",
       "        (denselayer4): _DenseLayer(\n",
       "          (norm1): BatchNorm2d(160, eps=1e-05, momentum=0.1, affine=True, track_running_stats=True)\n",
       "          (relu1): ReLU(inplace=True)\n",
       "          (conv1): Conv2d(160, 128, kernel_size=(1, 1), stride=(1, 1), bias=False)\n",
       "          (norm2): BatchNorm2d(128, eps=1e-05, momentum=0.1, affine=True, track_running_stats=True)\n",
       "          (relu2): ReLU(inplace=True)\n",
       "          (conv2): Conv2d(128, 32, kernel_size=(3, 3), stride=(1, 1), padding=(1, 1), bias=False)\n",
       "        )\n",
       "        (denselayer5): _DenseLayer(\n",
       "          (norm1): BatchNorm2d(192, eps=1e-05, momentum=0.1, affine=True, track_running_stats=True)\n",
       "          (relu1): ReLU(inplace=True)\n",
       "          (conv1): Conv2d(192, 128, kernel_size=(1, 1), stride=(1, 1), bias=False)\n",
       "          (norm2): BatchNorm2d(128, eps=1e-05, momentum=0.1, affine=True, track_running_stats=True)\n",
       "          (relu2): ReLU(inplace=True)\n",
       "          (conv2): Conv2d(128, 32, kernel_size=(3, 3), stride=(1, 1), padding=(1, 1), bias=False)\n",
       "        )\n",
       "        (denselayer6): _DenseLayer(\n",
       "          (norm1): BatchNorm2d(224, eps=1e-05, momentum=0.1, affine=True, track_running_stats=True)\n",
       "          (relu1): ReLU(inplace=True)\n",
       "          (conv1): Conv2d(224, 128, kernel_size=(1, 1), stride=(1, 1), bias=False)\n",
       "          (norm2): BatchNorm2d(128, eps=1e-05, momentum=0.1, affine=True, track_running_stats=True)\n",
       "          (relu2): ReLU(inplace=True)\n",
       "          (conv2): Conv2d(128, 32, kernel_size=(3, 3), stride=(1, 1), padding=(1, 1), bias=False)\n",
       "        )\n",
       "      )\n",
       "      (transition1): _Transition(\n",
       "        (norm): BatchNorm2d(256, eps=1e-05, momentum=0.1, affine=True, track_running_stats=True)\n",
       "        (relu): ReLU(inplace=True)\n",
       "        (conv): Conv2d(256, 128, kernel_size=(1, 1), stride=(1, 1), bias=False)\n",
       "        (pool): AvgPool2d(kernel_size=2, stride=2, padding=0)\n",
       "      )\n",
       "      (denseblock2): _DenseBlock(\n",
       "        (denselayer1): _DenseLayer(\n",
       "          (norm1): BatchNorm2d(128, eps=1e-05, momentum=0.1, affine=True, track_running_stats=True)\n",
       "          (relu1): ReLU(inplace=True)\n",
       "          (conv1): Conv2d(128, 128, kernel_size=(1, 1), stride=(1, 1), bias=False)\n",
       "          (norm2): BatchNorm2d(128, eps=1e-05, momentum=0.1, affine=True, track_running_stats=True)\n",
       "          (relu2): ReLU(inplace=True)\n",
       "          (conv2): Conv2d(128, 32, kernel_size=(3, 3), stride=(1, 1), padding=(1, 1), bias=False)\n",
       "        )\n",
       "        (denselayer2): _DenseLayer(\n",
       "          (norm1): BatchNorm2d(160, eps=1e-05, momentum=0.1, affine=True, track_running_stats=True)\n",
       "          (relu1): ReLU(inplace=True)\n",
       "          (conv1): Conv2d(160, 128, kernel_size=(1, 1), stride=(1, 1), bias=False)\n",
       "          (norm2): BatchNorm2d(128, eps=1e-05, momentum=0.1, affine=True, track_running_stats=True)\n",
       "          (relu2): ReLU(inplace=True)\n",
       "          (conv2): Conv2d(128, 32, kernel_size=(3, 3), stride=(1, 1), padding=(1, 1), bias=False)\n",
       "        )\n",
       "        (denselayer3): _DenseLayer(\n",
       "          (norm1): BatchNorm2d(192, eps=1e-05, momentum=0.1, affine=True, track_running_stats=True)\n",
       "          (relu1): ReLU(inplace=True)\n",
       "          (conv1): Conv2d(192, 128, kernel_size=(1, 1), stride=(1, 1), bias=False)\n",
       "          (norm2): BatchNorm2d(128, eps=1e-05, momentum=0.1, affine=True, track_running_stats=True)\n",
       "          (relu2): ReLU(inplace=True)\n",
       "          (conv2): Conv2d(128, 32, kernel_size=(3, 3), stride=(1, 1), padding=(1, 1), bias=False)\n",
       "        )\n",
       "        (denselayer4): _DenseLayer(\n",
       "          (norm1): BatchNorm2d(224, eps=1e-05, momentum=0.1, affine=True, track_running_stats=True)\n",
       "          (relu1): ReLU(inplace=True)\n",
       "          (conv1): Conv2d(224, 128, kernel_size=(1, 1), stride=(1, 1), bias=False)\n",
       "          (norm2): BatchNorm2d(128, eps=1e-05, momentum=0.1, affine=True, track_running_stats=True)\n",
       "          (relu2): ReLU(inplace=True)\n",
       "          (conv2): Conv2d(128, 32, kernel_size=(3, 3), stride=(1, 1), padding=(1, 1), bias=False)\n",
       "        )\n",
       "        (denselayer5): _DenseLayer(\n",
       "          (norm1): BatchNorm2d(256, eps=1e-05, momentum=0.1, affine=True, track_running_stats=True)\n",
       "          (relu1): ReLU(inplace=True)\n",
       "          (conv1): Conv2d(256, 128, kernel_size=(1, 1), stride=(1, 1), bias=False)\n",
       "          (norm2): BatchNorm2d(128, eps=1e-05, momentum=0.1, affine=True, track_running_stats=True)\n",
       "          (relu2): ReLU(inplace=True)\n",
       "          (conv2): Conv2d(128, 32, kernel_size=(3, 3), stride=(1, 1), padding=(1, 1), bias=False)\n",
       "        )\n",
       "        (denselayer6): _DenseLayer(\n",
       "          (norm1): BatchNorm2d(288, eps=1e-05, momentum=0.1, affine=True, track_running_stats=True)\n",
       "          (relu1): ReLU(inplace=True)\n",
       "          (conv1): Conv2d(288, 128, kernel_size=(1, 1), stride=(1, 1), bias=False)\n",
       "          (norm2): BatchNorm2d(128, eps=1e-05, momentum=0.1, affine=True, track_running_stats=True)\n",
       "          (relu2): ReLU(inplace=True)\n",
       "          (conv2): Conv2d(128, 32, kernel_size=(3, 3), stride=(1, 1), padding=(1, 1), bias=False)\n",
       "        )\n",
       "        (denselayer7): _DenseLayer(\n",
       "          (norm1): BatchNorm2d(320, eps=1e-05, momentum=0.1, affine=True, track_running_stats=True)\n",
       "          (relu1): ReLU(inplace=True)\n",
       "          (conv1): Conv2d(320, 128, kernel_size=(1, 1), stride=(1, 1), bias=False)\n",
       "          (norm2): BatchNorm2d(128, eps=1e-05, momentum=0.1, affine=True, track_running_stats=True)\n",
       "          (relu2): ReLU(inplace=True)\n",
       "          (conv2): Conv2d(128, 32, kernel_size=(3, 3), stride=(1, 1), padding=(1, 1), bias=False)\n",
       "        )\n",
       "        (denselayer8): _DenseLayer(\n",
       "          (norm1): BatchNorm2d(352, eps=1e-05, momentum=0.1, affine=True, track_running_stats=True)\n",
       "          (relu1): ReLU(inplace=True)\n",
       "          (conv1): Conv2d(352, 128, kernel_size=(1, 1), stride=(1, 1), bias=False)\n",
       "          (norm2): BatchNorm2d(128, eps=1e-05, momentum=0.1, affine=True, track_running_stats=True)\n",
       "          (relu2): ReLU(inplace=True)\n",
       "          (conv2): Conv2d(128, 32, kernel_size=(3, 3), stride=(1, 1), padding=(1, 1), bias=False)\n",
       "        )\n",
       "        (denselayer9): _DenseLayer(\n",
       "          (norm1): BatchNorm2d(384, eps=1e-05, momentum=0.1, affine=True, track_running_stats=True)\n",
       "          (relu1): ReLU(inplace=True)\n",
       "          (conv1): Conv2d(384, 128, kernel_size=(1, 1), stride=(1, 1), bias=False)\n",
       "          (norm2): BatchNorm2d(128, eps=1e-05, momentum=0.1, affine=True, track_running_stats=True)\n",
       "          (relu2): ReLU(inplace=True)\n",
       "          (conv2): Conv2d(128, 32, kernel_size=(3, 3), stride=(1, 1), padding=(1, 1), bias=False)\n",
       "        )\n",
       "        (denselayer10): _DenseLayer(\n",
       "          (norm1): BatchNorm2d(416, eps=1e-05, momentum=0.1, affine=True, track_running_stats=True)\n",
       "          (relu1): ReLU(inplace=True)\n",
       "          (conv1): Conv2d(416, 128, kernel_size=(1, 1), stride=(1, 1), bias=False)\n",
       "          (norm2): BatchNorm2d(128, eps=1e-05, momentum=0.1, affine=True, track_running_stats=True)\n",
       "          (relu2): ReLU(inplace=True)\n",
       "          (conv2): Conv2d(128, 32, kernel_size=(3, 3), stride=(1, 1), padding=(1, 1), bias=False)\n",
       "        )\n",
       "        (denselayer11): _DenseLayer(\n",
       "          (norm1): BatchNorm2d(448, eps=1e-05, momentum=0.1, affine=True, track_running_stats=True)\n",
       "          (relu1): ReLU(inplace=True)\n",
       "          (conv1): Conv2d(448, 128, kernel_size=(1, 1), stride=(1, 1), bias=False)\n",
       "          (norm2): BatchNorm2d(128, eps=1e-05, momentum=0.1, affine=True, track_running_stats=True)\n",
       "          (relu2): ReLU(inplace=True)\n",
       "          (conv2): Conv2d(128, 32, kernel_size=(3, 3), stride=(1, 1), padding=(1, 1), bias=False)\n",
       "        )\n",
       "        (denselayer12): _DenseLayer(\n",
       "          (norm1): BatchNorm2d(480, eps=1e-05, momentum=0.1, affine=True, track_running_stats=True)\n",
       "          (relu1): ReLU(inplace=True)\n",
       "          (conv1): Conv2d(480, 128, kernel_size=(1, 1), stride=(1, 1), bias=False)\n",
       "          (norm2): BatchNorm2d(128, eps=1e-05, momentum=0.1, affine=True, track_running_stats=True)\n",
       "          (relu2): ReLU(inplace=True)\n",
       "          (conv2): Conv2d(128, 32, kernel_size=(3, 3), stride=(1, 1), padding=(1, 1), bias=False)\n",
       "        )\n",
       "      )\n",
       "      (transition2): _Transition(\n",
       "        (norm): BatchNorm2d(512, eps=1e-05, momentum=0.1, affine=True, track_running_stats=True)\n",
       "        (relu): ReLU(inplace=True)\n",
       "        (conv): Conv2d(512, 256, kernel_size=(1, 1), stride=(1, 1), bias=False)\n",
       "        (pool): AvgPool2d(kernel_size=2, stride=2, padding=0)\n",
       "      )\n",
       "      (denseblock3): _DenseBlock(\n",
       "        (denselayer1): _DenseLayer(\n",
       "          (norm1): BatchNorm2d(256, eps=1e-05, momentum=0.1, affine=True, track_running_stats=True)\n",
       "          (relu1): ReLU(inplace=True)\n",
       "          (conv1): Conv2d(256, 128, kernel_size=(1, 1), stride=(1, 1), bias=False)\n",
       "          (norm2): BatchNorm2d(128, eps=1e-05, momentum=0.1, affine=True, track_running_stats=True)\n",
       "          (relu2): ReLU(inplace=True)\n",
       "          (conv2): Conv2d(128, 32, kernel_size=(3, 3), stride=(1, 1), padding=(1, 1), bias=False)\n",
       "        )\n",
       "        (denselayer2): _DenseLayer(\n",
       "          (norm1): BatchNorm2d(288, eps=1e-05, momentum=0.1, affine=True, track_running_stats=True)\n",
       "          (relu1): ReLU(inplace=True)\n",
       "          (conv1): Conv2d(288, 128, kernel_size=(1, 1), stride=(1, 1), bias=False)\n",
       "          (norm2): BatchNorm2d(128, eps=1e-05, momentum=0.1, affine=True, track_running_stats=True)\n",
       "          (relu2): ReLU(inplace=True)\n",
       "          (conv2): Conv2d(128, 32, kernel_size=(3, 3), stride=(1, 1), padding=(1, 1), bias=False)\n",
       "        )\n",
       "        (denselayer3): _DenseLayer(\n",
       "          (norm1): BatchNorm2d(320, eps=1e-05, momentum=0.1, affine=True, track_running_stats=True)\n",
       "          (relu1): ReLU(inplace=True)\n",
       "          (conv1): Conv2d(320, 128, kernel_size=(1, 1), stride=(1, 1), bias=False)\n",
       "          (norm2): BatchNorm2d(128, eps=1e-05, momentum=0.1, affine=True, track_running_stats=True)\n",
       "          (relu2): ReLU(inplace=True)\n",
       "          (conv2): Conv2d(128, 32, kernel_size=(3, 3), stride=(1, 1), padding=(1, 1), bias=False)\n",
       "        )\n",
       "        (denselayer4): _DenseLayer(\n",
       "          (norm1): BatchNorm2d(352, eps=1e-05, momentum=0.1, affine=True, track_running_stats=True)\n",
       "          (relu1): ReLU(inplace=True)\n",
       "          (conv1): Conv2d(352, 128, kernel_size=(1, 1), stride=(1, 1), bias=False)\n",
       "          (norm2): BatchNorm2d(128, eps=1e-05, momentum=0.1, affine=True, track_running_stats=True)\n",
       "          (relu2): ReLU(inplace=True)\n",
       "          (conv2): Conv2d(128, 32, kernel_size=(3, 3), stride=(1, 1), padding=(1, 1), bias=False)\n",
       "        )\n",
       "        (denselayer5): _DenseLayer(\n",
       "          (norm1): BatchNorm2d(384, eps=1e-05, momentum=0.1, affine=True, track_running_stats=True)\n",
       "          (relu1): ReLU(inplace=True)\n",
       "          (conv1): Conv2d(384, 128, kernel_size=(1, 1), stride=(1, 1), bias=False)\n",
       "          (norm2): BatchNorm2d(128, eps=1e-05, momentum=0.1, affine=True, track_running_stats=True)\n",
       "          (relu2): ReLU(inplace=True)\n",
       "          (conv2): Conv2d(128, 32, kernel_size=(3, 3), stride=(1, 1), padding=(1, 1), bias=False)\n",
       "        )\n",
       "        (denselayer6): _DenseLayer(\n",
       "          (norm1): BatchNorm2d(416, eps=1e-05, momentum=0.1, affine=True, track_running_stats=True)\n",
       "          (relu1): ReLU(inplace=True)\n",
       "          (conv1): Conv2d(416, 128, kernel_size=(1, 1), stride=(1, 1), bias=False)\n",
       "          (norm2): BatchNorm2d(128, eps=1e-05, momentum=0.1, affine=True, track_running_stats=True)\n",
       "          (relu2): ReLU(inplace=True)\n",
       "          (conv2): Conv2d(128, 32, kernel_size=(3, 3), stride=(1, 1), padding=(1, 1), bias=False)\n",
       "        )\n",
       "        (denselayer7): _DenseLayer(\n",
       "          (norm1): BatchNorm2d(448, eps=1e-05, momentum=0.1, affine=True, track_running_stats=True)\n",
       "          (relu1): ReLU(inplace=True)\n",
       "          (conv1): Conv2d(448, 128, kernel_size=(1, 1), stride=(1, 1), bias=False)\n",
       "          (norm2): BatchNorm2d(128, eps=1e-05, momentum=0.1, affine=True, track_running_stats=True)\n",
       "          (relu2): ReLU(inplace=True)\n",
       "          (conv2): Conv2d(128, 32, kernel_size=(3, 3), stride=(1, 1), padding=(1, 1), bias=False)\n",
       "        )\n",
       "        (denselayer8): _DenseLayer(\n",
       "          (norm1): BatchNorm2d(480, eps=1e-05, momentum=0.1, affine=True, track_running_stats=True)\n",
       "          (relu1): ReLU(inplace=True)\n",
       "          (conv1): Conv2d(480, 128, kernel_size=(1, 1), stride=(1, 1), bias=False)\n",
       "          (norm2): BatchNorm2d(128, eps=1e-05, momentum=0.1, affine=True, track_running_stats=True)\n",
       "          (relu2): ReLU(inplace=True)\n",
       "          (conv2): Conv2d(128, 32, kernel_size=(3, 3), stride=(1, 1), padding=(1, 1), bias=False)\n",
       "        )\n",
       "        (denselayer9): _DenseLayer(\n",
       "          (norm1): BatchNorm2d(512, eps=1e-05, momentum=0.1, affine=True, track_running_stats=True)\n",
       "          (relu1): ReLU(inplace=True)\n",
       "          (conv1): Conv2d(512, 128, kernel_size=(1, 1), stride=(1, 1), bias=False)\n",
       "          (norm2): BatchNorm2d(128, eps=1e-05, momentum=0.1, affine=True, track_running_stats=True)\n",
       "          (relu2): ReLU(inplace=True)\n",
       "          (conv2): Conv2d(128, 32, kernel_size=(3, 3), stride=(1, 1), padding=(1, 1), bias=False)\n",
       "        )\n",
       "        (denselayer10): _DenseLayer(\n",
       "          (norm1): BatchNorm2d(544, eps=1e-05, momentum=0.1, affine=True, track_running_stats=True)\n",
       "          (relu1): ReLU(inplace=True)\n",
       "          (conv1): Conv2d(544, 128, kernel_size=(1, 1), stride=(1, 1), bias=False)\n",
       "          (norm2): BatchNorm2d(128, eps=1e-05, momentum=0.1, affine=True, track_running_stats=True)\n",
       "          (relu2): ReLU(inplace=True)\n",
       "          (conv2): Conv2d(128, 32, kernel_size=(3, 3), stride=(1, 1), padding=(1, 1), bias=False)\n",
       "        )\n",
       "        (denselayer11): _DenseLayer(\n",
       "          (norm1): BatchNorm2d(576, eps=1e-05, momentum=0.1, affine=True, track_running_stats=True)\n",
       "          (relu1): ReLU(inplace=True)\n",
       "          (conv1): Conv2d(576, 128, kernel_size=(1, 1), stride=(1, 1), bias=False)\n",
       "          (norm2): BatchNorm2d(128, eps=1e-05, momentum=0.1, affine=True, track_running_stats=True)\n",
       "          (relu2): ReLU(inplace=True)\n",
       "          (conv2): Conv2d(128, 32, kernel_size=(3, 3), stride=(1, 1), padding=(1, 1), bias=False)\n",
       "        )\n",
       "        (denselayer12): _DenseLayer(\n",
       "          (norm1): BatchNorm2d(608, eps=1e-05, momentum=0.1, affine=True, track_running_stats=True)\n",
       "          (relu1): ReLU(inplace=True)\n",
       "          (conv1): Conv2d(608, 128, kernel_size=(1, 1), stride=(1, 1), bias=False)\n",
       "          (norm2): BatchNorm2d(128, eps=1e-05, momentum=0.1, affine=True, track_running_stats=True)\n",
       "          (relu2): ReLU(inplace=True)\n",
       "          (conv2): Conv2d(128, 32, kernel_size=(3, 3), stride=(1, 1), padding=(1, 1), bias=False)\n",
       "        )\n",
       "        (denselayer13): _DenseLayer(\n",
       "          (norm1): BatchNorm2d(640, eps=1e-05, momentum=0.1, affine=True, track_running_stats=True)\n",
       "          (relu1): ReLU(inplace=True)\n",
       "          (conv1): Conv2d(640, 128, kernel_size=(1, 1), stride=(1, 1), bias=False)\n",
       "          (norm2): BatchNorm2d(128, eps=1e-05, momentum=0.1, affine=True, track_running_stats=True)\n",
       "          (relu2): ReLU(inplace=True)\n",
       "          (conv2): Conv2d(128, 32, kernel_size=(3, 3), stride=(1, 1), padding=(1, 1), bias=False)\n",
       "        )\n",
       "        (denselayer14): _DenseLayer(\n",
       "          (norm1): BatchNorm2d(672, eps=1e-05, momentum=0.1, affine=True, track_running_stats=True)\n",
       "          (relu1): ReLU(inplace=True)\n",
       "          (conv1): Conv2d(672, 128, kernel_size=(1, 1), stride=(1, 1), bias=False)\n",
       "          (norm2): BatchNorm2d(128, eps=1e-05, momentum=0.1, affine=True, track_running_stats=True)\n",
       "          (relu2): ReLU(inplace=True)\n",
       "          (conv2): Conv2d(128, 32, kernel_size=(3, 3), stride=(1, 1), padding=(1, 1), bias=False)\n",
       "        )\n",
       "        (denselayer15): _DenseLayer(\n",
       "          (norm1): BatchNorm2d(704, eps=1e-05, momentum=0.1, affine=True, track_running_stats=True)\n",
       "          (relu1): ReLU(inplace=True)\n",
       "          (conv1): Conv2d(704, 128, kernel_size=(1, 1), stride=(1, 1), bias=False)\n",
       "          (norm2): BatchNorm2d(128, eps=1e-05, momentum=0.1, affine=True, track_running_stats=True)\n",
       "          (relu2): ReLU(inplace=True)\n",
       "          (conv2): Conv2d(128, 32, kernel_size=(3, 3), stride=(1, 1), padding=(1, 1), bias=False)\n",
       "        )\n",
       "        (denselayer16): _DenseLayer(\n",
       "          (norm1): BatchNorm2d(736, eps=1e-05, momentum=0.1, affine=True, track_running_stats=True)\n",
       "          (relu1): ReLU(inplace=True)\n",
       "          (conv1): Conv2d(736, 128, kernel_size=(1, 1), stride=(1, 1), bias=False)\n",
       "          (norm2): BatchNorm2d(128, eps=1e-05, momentum=0.1, affine=True, track_running_stats=True)\n",
       "          (relu2): ReLU(inplace=True)\n",
       "          (conv2): Conv2d(128, 32, kernel_size=(3, 3), stride=(1, 1), padding=(1, 1), bias=False)\n",
       "        )\n",
       "        (denselayer17): _DenseLayer(\n",
       "          (norm1): BatchNorm2d(768, eps=1e-05, momentum=0.1, affine=True, track_running_stats=True)\n",
       "          (relu1): ReLU(inplace=True)\n",
       "          (conv1): Conv2d(768, 128, kernel_size=(1, 1), stride=(1, 1), bias=False)\n",
       "          (norm2): BatchNorm2d(128, eps=1e-05, momentum=0.1, affine=True, track_running_stats=True)\n",
       "          (relu2): ReLU(inplace=True)\n",
       "          (conv2): Conv2d(128, 32, kernel_size=(3, 3), stride=(1, 1), padding=(1, 1), bias=False)\n",
       "        )\n",
       "        (denselayer18): _DenseLayer(\n",
       "          (norm1): BatchNorm2d(800, eps=1e-05, momentum=0.1, affine=True, track_running_stats=True)\n",
       "          (relu1): ReLU(inplace=True)\n",
       "          (conv1): Conv2d(800, 128, kernel_size=(1, 1), stride=(1, 1), bias=False)\n",
       "          (norm2): BatchNorm2d(128, eps=1e-05, momentum=0.1, affine=True, track_running_stats=True)\n",
       "          (relu2): ReLU(inplace=True)\n",
       "          (conv2): Conv2d(128, 32, kernel_size=(3, 3), stride=(1, 1), padding=(1, 1), bias=False)\n",
       "        )\n",
       "        (denselayer19): _DenseLayer(\n",
       "          (norm1): BatchNorm2d(832, eps=1e-05, momentum=0.1, affine=True, track_running_stats=True)\n",
       "          (relu1): ReLU(inplace=True)\n",
       "          (conv1): Conv2d(832, 128, kernel_size=(1, 1), stride=(1, 1), bias=False)\n",
       "          (norm2): BatchNorm2d(128, eps=1e-05, momentum=0.1, affine=True, track_running_stats=True)\n",
       "          (relu2): ReLU(inplace=True)\n",
       "          (conv2): Conv2d(128, 32, kernel_size=(3, 3), stride=(1, 1), padding=(1, 1), bias=False)\n",
       "        )\n",
       "        (denselayer20): _DenseLayer(\n",
       "          (norm1): BatchNorm2d(864, eps=1e-05, momentum=0.1, affine=True, track_running_stats=True)\n",
       "          (relu1): ReLU(inplace=True)\n",
       "          (conv1): Conv2d(864, 128, kernel_size=(1, 1), stride=(1, 1), bias=False)\n",
       "          (norm2): BatchNorm2d(128, eps=1e-05, momentum=0.1, affine=True, track_running_stats=True)\n",
       "          (relu2): ReLU(inplace=True)\n",
       "          (conv2): Conv2d(128, 32, kernel_size=(3, 3), stride=(1, 1), padding=(1, 1), bias=False)\n",
       "        )\n",
       "        (denselayer21): _DenseLayer(\n",
       "          (norm1): BatchNorm2d(896, eps=1e-05, momentum=0.1, affine=True, track_running_stats=True)\n",
       "          (relu1): ReLU(inplace=True)\n",
       "          (conv1): Conv2d(896, 128, kernel_size=(1, 1), stride=(1, 1), bias=False)\n",
       "          (norm2): BatchNorm2d(128, eps=1e-05, momentum=0.1, affine=True, track_running_stats=True)\n",
       "          (relu2): ReLU(inplace=True)\n",
       "          (conv2): Conv2d(128, 32, kernel_size=(3, 3), stride=(1, 1), padding=(1, 1), bias=False)\n",
       "        )\n",
       "        (denselayer22): _DenseLayer(\n",
       "          (norm1): BatchNorm2d(928, eps=1e-05, momentum=0.1, affine=True, track_running_stats=True)\n",
       "          (relu1): ReLU(inplace=True)\n",
       "          (conv1): Conv2d(928, 128, kernel_size=(1, 1), stride=(1, 1), bias=False)\n",
       "          (norm2): BatchNorm2d(128, eps=1e-05, momentum=0.1, affine=True, track_running_stats=True)\n",
       "          (relu2): ReLU(inplace=True)\n",
       "          (conv2): Conv2d(128, 32, kernel_size=(3, 3), stride=(1, 1), padding=(1, 1), bias=False)\n",
       "        )\n",
       "        (denselayer23): _DenseLayer(\n",
       "          (norm1): BatchNorm2d(960, eps=1e-05, momentum=0.1, affine=True, track_running_stats=True)\n",
       "          (relu1): ReLU(inplace=True)\n",
       "          (conv1): Conv2d(960, 128, kernel_size=(1, 1), stride=(1, 1), bias=False)\n",
       "          (norm2): BatchNorm2d(128, eps=1e-05, momentum=0.1, affine=True, track_running_stats=True)\n",
       "          (relu2): ReLU(inplace=True)\n",
       "          (conv2): Conv2d(128, 32, kernel_size=(3, 3), stride=(1, 1), padding=(1, 1), bias=False)\n",
       "        )\n",
       "        (denselayer24): _DenseLayer(\n",
       "          (norm1): BatchNorm2d(992, eps=1e-05, momentum=0.1, affine=True, track_running_stats=True)\n",
       "          (relu1): ReLU(inplace=True)\n",
       "          (conv1): Conv2d(992, 128, kernel_size=(1, 1), stride=(1, 1), bias=False)\n",
       "          (norm2): BatchNorm2d(128, eps=1e-05, momentum=0.1, affine=True, track_running_stats=True)\n",
       "          (relu2): ReLU(inplace=True)\n",
       "          (conv2): Conv2d(128, 32, kernel_size=(3, 3), stride=(1, 1), padding=(1, 1), bias=False)\n",
       "        )\n",
       "      )\n",
       "      (transition3): _Transition(\n",
       "        (norm): BatchNorm2d(1024, eps=1e-05, momentum=0.1, affine=True, track_running_stats=True)\n",
       "        (relu): ReLU(inplace=True)\n",
       "        (conv): Conv2d(1024, 512, kernel_size=(1, 1), stride=(1, 1), bias=False)\n",
       "        (pool): AvgPool2d(kernel_size=2, stride=2, padding=0)\n",
       "      )\n",
       "      (denseblock4): _DenseBlock(\n",
       "        (denselayer1): _DenseLayer(\n",
       "          (norm1): BatchNorm2d(512, eps=1e-05, momentum=0.1, affine=True, track_running_stats=True)\n",
       "          (relu1): ReLU(inplace=True)\n",
       "          (conv1): Conv2d(512, 128, kernel_size=(1, 1), stride=(1, 1), bias=False)\n",
       "          (norm2): BatchNorm2d(128, eps=1e-05, momentum=0.1, affine=True, track_running_stats=True)\n",
       "          (relu2): ReLU(inplace=True)\n",
       "          (conv2): Conv2d(128, 32, kernel_size=(3, 3), stride=(1, 1), padding=(1, 1), bias=False)\n",
       "        )\n",
       "        (denselayer2): _DenseLayer(\n",
       "          (norm1): BatchNorm2d(544, eps=1e-05, momentum=0.1, affine=True, track_running_stats=True)\n",
       "          (relu1): ReLU(inplace=True)\n",
       "          (conv1): Conv2d(544, 128, kernel_size=(1, 1), stride=(1, 1), bias=False)\n",
       "          (norm2): BatchNorm2d(128, eps=1e-05, momentum=0.1, affine=True, track_running_stats=True)\n",
       "          (relu2): ReLU(inplace=True)\n",
       "          (conv2): Conv2d(128, 32, kernel_size=(3, 3), stride=(1, 1), padding=(1, 1), bias=False)\n",
       "        )\n",
       "        (denselayer3): _DenseLayer(\n",
       "          (norm1): BatchNorm2d(576, eps=1e-05, momentum=0.1, affine=True, track_running_stats=True)\n",
       "          (relu1): ReLU(inplace=True)\n",
       "          (conv1): Conv2d(576, 128, kernel_size=(1, 1), stride=(1, 1), bias=False)\n",
       "          (norm2): BatchNorm2d(128, eps=1e-05, momentum=0.1, affine=True, track_running_stats=True)\n",
       "          (relu2): ReLU(inplace=True)\n",
       "          (conv2): Conv2d(128, 32, kernel_size=(3, 3), stride=(1, 1), padding=(1, 1), bias=False)\n",
       "        )\n",
       "        (denselayer4): _DenseLayer(\n",
       "          (norm1): BatchNorm2d(608, eps=1e-05, momentum=0.1, affine=True, track_running_stats=True)\n",
       "          (relu1): ReLU(inplace=True)\n",
       "          (conv1): Conv2d(608, 128, kernel_size=(1, 1), stride=(1, 1), bias=False)\n",
       "          (norm2): BatchNorm2d(128, eps=1e-05, momentum=0.1, affine=True, track_running_stats=True)\n",
       "          (relu2): ReLU(inplace=True)\n",
       "          (conv2): Conv2d(128, 32, kernel_size=(3, 3), stride=(1, 1), padding=(1, 1), bias=False)\n",
       "        )\n",
       "        (denselayer5): _DenseLayer(\n",
       "          (norm1): BatchNorm2d(640, eps=1e-05, momentum=0.1, affine=True, track_running_stats=True)\n",
       "          (relu1): ReLU(inplace=True)\n",
       "          (conv1): Conv2d(640, 128, kernel_size=(1, 1), stride=(1, 1), bias=False)\n",
       "          (norm2): BatchNorm2d(128, eps=1e-05, momentum=0.1, affine=True, track_running_stats=True)\n",
       "          (relu2): ReLU(inplace=True)\n",
       "          (conv2): Conv2d(128, 32, kernel_size=(3, 3), stride=(1, 1), padding=(1, 1), bias=False)\n",
       "        )\n",
       "        (denselayer6): _DenseLayer(\n",
       "          (norm1): BatchNorm2d(672, eps=1e-05, momentum=0.1, affine=True, track_running_stats=True)\n",
       "          (relu1): ReLU(inplace=True)\n",
       "          (conv1): Conv2d(672, 128, kernel_size=(1, 1), stride=(1, 1), bias=False)\n",
       "          (norm2): BatchNorm2d(128, eps=1e-05, momentum=0.1, affine=True, track_running_stats=True)\n",
       "          (relu2): ReLU(inplace=True)\n",
       "          (conv2): Conv2d(128, 32, kernel_size=(3, 3), stride=(1, 1), padding=(1, 1), bias=False)\n",
       "        )\n",
       "        (denselayer7): _DenseLayer(\n",
       "          (norm1): BatchNorm2d(704, eps=1e-05, momentum=0.1, affine=True, track_running_stats=True)\n",
       "          (relu1): ReLU(inplace=True)\n",
       "          (conv1): Conv2d(704, 128, kernel_size=(1, 1), stride=(1, 1), bias=False)\n",
       "          (norm2): BatchNorm2d(128, eps=1e-05, momentum=0.1, affine=True, track_running_stats=True)\n",
       "          (relu2): ReLU(inplace=True)\n",
       "          (conv2): Conv2d(128, 32, kernel_size=(3, 3), stride=(1, 1), padding=(1, 1), bias=False)\n",
       "        )\n",
       "        (denselayer8): _DenseLayer(\n",
       "          (norm1): BatchNorm2d(736, eps=1e-05, momentum=0.1, affine=True, track_running_stats=True)\n",
       "          (relu1): ReLU(inplace=True)\n",
       "          (conv1): Conv2d(736, 128, kernel_size=(1, 1), stride=(1, 1), bias=False)\n",
       "          (norm2): BatchNorm2d(128, eps=1e-05, momentum=0.1, affine=True, track_running_stats=True)\n",
       "          (relu2): ReLU(inplace=True)\n",
       "          (conv2): Conv2d(128, 32, kernel_size=(3, 3), stride=(1, 1), padding=(1, 1), bias=False)\n",
       "        )\n",
       "        (denselayer9): _DenseLayer(\n",
       "          (norm1): BatchNorm2d(768, eps=1e-05, momentum=0.1, affine=True, track_running_stats=True)\n",
       "          (relu1): ReLU(inplace=True)\n",
       "          (conv1): Conv2d(768, 128, kernel_size=(1, 1), stride=(1, 1), bias=False)\n",
       "          (norm2): BatchNorm2d(128, eps=1e-05, momentum=0.1, affine=True, track_running_stats=True)\n",
       "          (relu2): ReLU(inplace=True)\n",
       "          (conv2): Conv2d(128, 32, kernel_size=(3, 3), stride=(1, 1), padding=(1, 1), bias=False)\n",
       "        )\n",
       "        (denselayer10): _DenseLayer(\n",
       "          (norm1): BatchNorm2d(800, eps=1e-05, momentum=0.1, affine=True, track_running_stats=True)\n",
       "          (relu1): ReLU(inplace=True)\n",
       "          (conv1): Conv2d(800, 128, kernel_size=(1, 1), stride=(1, 1), bias=False)\n",
       "          (norm2): BatchNorm2d(128, eps=1e-05, momentum=0.1, affine=True, track_running_stats=True)\n",
       "          (relu2): ReLU(inplace=True)\n",
       "          (conv2): Conv2d(128, 32, kernel_size=(3, 3), stride=(1, 1), padding=(1, 1), bias=False)\n",
       "        )\n",
       "        (denselayer11): _DenseLayer(\n",
       "          (norm1): BatchNorm2d(832, eps=1e-05, momentum=0.1, affine=True, track_running_stats=True)\n",
       "          (relu1): ReLU(inplace=True)\n",
       "          (conv1): Conv2d(832, 128, kernel_size=(1, 1), stride=(1, 1), bias=False)\n",
       "          (norm2): BatchNorm2d(128, eps=1e-05, momentum=0.1, affine=True, track_running_stats=True)\n",
       "          (relu2): ReLU(inplace=True)\n",
       "          (conv2): Conv2d(128, 32, kernel_size=(3, 3), stride=(1, 1), padding=(1, 1), bias=False)\n",
       "        )\n",
       "        (denselayer12): _DenseLayer(\n",
       "          (norm1): BatchNorm2d(864, eps=1e-05, momentum=0.1, affine=True, track_running_stats=True)\n",
       "          (relu1): ReLU(inplace=True)\n",
       "          (conv1): Conv2d(864, 128, kernel_size=(1, 1), stride=(1, 1), bias=False)\n",
       "          (norm2): BatchNorm2d(128, eps=1e-05, momentum=0.1, affine=True, track_running_stats=True)\n",
       "          (relu2): ReLU(inplace=True)\n",
       "          (conv2): Conv2d(128, 32, kernel_size=(3, 3), stride=(1, 1), padding=(1, 1), bias=False)\n",
       "        )\n",
       "        (denselayer13): _DenseLayer(\n",
       "          (norm1): BatchNorm2d(896, eps=1e-05, momentum=0.1, affine=True, track_running_stats=True)\n",
       "          (relu1): ReLU(inplace=True)\n",
       "          (conv1): Conv2d(896, 128, kernel_size=(1, 1), stride=(1, 1), bias=False)\n",
       "          (norm2): BatchNorm2d(128, eps=1e-05, momentum=0.1, affine=True, track_running_stats=True)\n",
       "          (relu2): ReLU(inplace=True)\n",
       "          (conv2): Conv2d(128, 32, kernel_size=(3, 3), stride=(1, 1), padding=(1, 1), bias=False)\n",
       "        )\n",
       "        (denselayer14): _DenseLayer(\n",
       "          (norm1): BatchNorm2d(928, eps=1e-05, momentum=0.1, affine=True, track_running_stats=True)\n",
       "          (relu1): ReLU(inplace=True)\n",
       "          (conv1): Conv2d(928, 128, kernel_size=(1, 1), stride=(1, 1), bias=False)\n",
       "          (norm2): BatchNorm2d(128, eps=1e-05, momentum=0.1, affine=True, track_running_stats=True)\n",
       "          (relu2): ReLU(inplace=True)\n",
       "          (conv2): Conv2d(128, 32, kernel_size=(3, 3), stride=(1, 1), padding=(1, 1), bias=False)\n",
       "        )\n",
       "        (denselayer15): _DenseLayer(\n",
       "          (norm1): BatchNorm2d(960, eps=1e-05, momentum=0.1, affine=True, track_running_stats=True)\n",
       "          (relu1): ReLU(inplace=True)\n",
       "          (conv1): Conv2d(960, 128, kernel_size=(1, 1), stride=(1, 1), bias=False)\n",
       "          (norm2): BatchNorm2d(128, eps=1e-05, momentum=0.1, affine=True, track_running_stats=True)\n",
       "          (relu2): ReLU(inplace=True)\n",
       "          (conv2): Conv2d(128, 32, kernel_size=(3, 3), stride=(1, 1), padding=(1, 1), bias=False)\n",
       "        )\n",
       "        (denselayer16): _DenseLayer(\n",
       "          (norm1): BatchNorm2d(992, eps=1e-05, momentum=0.1, affine=True, track_running_stats=True)\n",
       "          (relu1): ReLU(inplace=True)\n",
       "          (conv1): Conv2d(992, 128, kernel_size=(1, 1), stride=(1, 1), bias=False)\n",
       "          (norm2): BatchNorm2d(128, eps=1e-05, momentum=0.1, affine=True, track_running_stats=True)\n",
       "          (relu2): ReLU(inplace=True)\n",
       "          (conv2): Conv2d(128, 32, kernel_size=(3, 3), stride=(1, 1), padding=(1, 1), bias=False)\n",
       "        )\n",
       "      )\n",
       "      (norm5): BatchNorm2d(1024, eps=1e-05, momentum=0.1, affine=True, track_running_stats=True)\n",
       "    )\n",
       "    (classifier): Sequential(\n",
       "      (0): Linear(in_features=1024, out_features=512, bias=True)\n",
       "      (1): Dropout(p=0.5, inplace=False)\n",
       "      (2): Linear(in_features=512, out_features=256, bias=True)\n",
       "      (3): Linear(in_features=256, out_features=128, bias=True)\n",
       "      (4): Dropout(p=0.25, inplace=False)\n",
       "      (5): Linear(in_features=128, out_features=2, bias=True)\n",
       "    )\n",
       "  )\n",
       ")"
      ]
     },
     "execution_count": 47,
     "metadata": {},
     "output_type": "execute_result"
    }
   ],
   "source": [
    "from torchvision.models import densenet121,DenseNet121_Weights, DenseNet\n",
    "\n",
    "#model architecture\n",
    "class CXR_DenseNetModel(nn.Module):\n",
    "  \"\"\"DenseNet121 pretrained model definition.\"\"\"\n",
    "  def __init__(self, num_classes):\n",
    "      super(CXR_DenseNetModel, self).__init__()\n",
    "\n",
    "      self.model = torchvision.models.densenet121(pretrained=True)\n",
    "\n",
    "      # Freeze the model's parameters\n",
    "      for param in self.model.parameters():\n",
    "          param.requires_grad = False\n",
    "\n",
    "      # Replace the last linear layer of the model\n",
    "      in_features = self.model.classifier.in_features\n",
    "      self.model.classifier = nn.Sequential( \n",
    "          nn.Linear(in_features, in_features // 2),\n",
    "          nn.Dropout(0.5),\n",
    "          nn.Linear(in_features // 2, in_features // 4),\n",
    "          # nn.Dropout(0.5),\n",
    "          nn.Linear(in_features // 4, in_features // 8),\n",
    "          nn.Dropout(0.25),\n",
    "          nn.Linear(in_features // 8, num_classes),\n",
    "      )\n",
    "\n",
    "  def forward(self, x):\n",
    "      return self.model(x)\n",
    "\n",
    "model = CXR_DenseNetModel(num_classes=2)\n",
    "\n",
    "# set device\n",
    "model = model.to(device) \n",
    "model\n"
   ]
  },
  {
   "cell_type": "code",
   "execution_count": 48,
   "metadata": {},
   "outputs": [
    {
     "name": "stdout",
     "output_type": "stream",
     "text": [
      "tensor([0.0532, 0.9468])\n"
     ]
    }
   ],
   "source": [
    "# calculating weights for each classes\n",
    "def class_weight(x,total):\n",
    "  return 1 - (x/total)\n",
    "\n",
    "total = 249 + 14\n",
    "class_weights = torch.tensor([class_weight(249,total),class_weight(14,total)])\n",
    "print(class_weights)"
   ]
  },
  {
   "cell_type": "code",
   "execution_count": 50,
   "metadata": {},
   "outputs": [],
   "source": [
    "# Define the Binary CrossEntropy with Logits loss function and Adam optimizer\n",
    "loss_fn = nn.BCEWithLogitsLoss(weight = class_weights.to(device))\n",
    "optimizer = optim.Adam(model.parameters(),lr=0.001)"
   ]
  },
  {
   "cell_type": "code",
   "execution_count": 52,
   "metadata": {},
   "outputs": [
    {
     "name": "stderr",
     "output_type": "stream",
     "text": [
      "  0%|          | 0/25 [00:00<?, ?it/s]"
     ]
    },
    {
     "name": "stderr",
     "output_type": "stream",
     "text": [
      "  4%|▍         | 1/25 [00:28<11:24, 28.54s/it]"
     ]
    },
    {
     "name": "stdout",
     "output_type": "stream",
     "text": [
      "\n",
      "Train Loss: 0.554,Train Accuracy: 0.935, Valid Loss: 0.360, Valid Accuracy: 0.94\n"
     ]
    },
    {
     "name": "stderr",
     "output_type": "stream",
     "text": [
      "  8%|▊         | 2/25 [00:45<08:23, 21.89s/it]"
     ]
    },
    {
     "name": "stdout",
     "output_type": "stream",
     "text": [
      "\n",
      "Train Loss: 0.193,Train Accuracy: 0.935, Valid Loss: 0.170, Valid Accuracy: 0.94\n"
     ]
    },
    {
     "name": "stderr",
     "output_type": "stream",
     "text": [
      " 12%|█▏        | 3/25 [01:08<08:14, 22.47s/it]"
     ]
    },
    {
     "name": "stdout",
     "output_type": "stream",
     "text": [
      "\n",
      "Train Loss: 0.170,Train Accuracy: 0.947, Valid Loss: 0.124, Valid Accuracy: 0.94\n"
     ]
    },
    {
     "name": "stderr",
     "output_type": "stream",
     "text": [
      " 16%|█▌        | 4/25 [01:31<07:51, 22.46s/it]"
     ]
    },
    {
     "name": "stdout",
     "output_type": "stream",
     "text": [
      "\n",
      "Train Loss: 0.147,Train Accuracy: 0.947, Valid Loss: 0.131, Valid Accuracy: 0.94\n"
     ]
    },
    {
     "name": "stderr",
     "output_type": "stream",
     "text": [
      " 20%|██        | 5/25 [01:53<07:28, 22.41s/it]"
     ]
    },
    {
     "name": "stdout",
     "output_type": "stream",
     "text": [
      "\n",
      "Train Loss: 0.156,Train Accuracy: 0.939, Valid Loss: 0.133, Valid Accuracy: 0.94\n"
     ]
    },
    {
     "name": "stderr",
     "output_type": "stream",
     "text": [
      " 24%|██▍       | 6/25 [02:16<07:08, 22.54s/it]"
     ]
    },
    {
     "name": "stdout",
     "output_type": "stream",
     "text": [
      "\n",
      "Train Loss: 0.161,Train Accuracy: 0.939, Valid Loss: 0.146, Valid Accuracy: 0.94\n"
     ]
    },
    {
     "name": "stderr",
     "output_type": "stream",
     "text": [
      " 28%|██▊       | 7/25 [02:39<06:46, 22.56s/it]"
     ]
    },
    {
     "name": "stdout",
     "output_type": "stream",
     "text": [
      "\n",
      "Train Loss: 0.144,Train Accuracy: 0.947, Valid Loss: 0.130, Valid Accuracy: 0.94\n"
     ]
    },
    {
     "name": "stderr",
     "output_type": "stream",
     "text": [
      " 32%|███▏      | 8/25 [03:01<06:24, 22.61s/it]"
     ]
    },
    {
     "name": "stdout",
     "output_type": "stream",
     "text": [
      "\n",
      "Train Loss: 0.175,Train Accuracy: 0.939, Valid Loss: 0.169, Valid Accuracy: 0.94\n"
     ]
    },
    {
     "name": "stderr",
     "output_type": "stream",
     "text": [
      " 36%|███▌      | 9/25 [03:24<06:00, 22.55s/it]"
     ]
    },
    {
     "name": "stdout",
     "output_type": "stream",
     "text": [
      "\n",
      "Train Loss: 0.159,Train Accuracy: 0.947, Valid Loss: 0.138, Valid Accuracy: 0.94\n"
     ]
    },
    {
     "name": "stderr",
     "output_type": "stream",
     "text": [
      " 40%|████      | 10/25 [03:46<05:37, 22.50s/it]"
     ]
    },
    {
     "name": "stdout",
     "output_type": "stream",
     "text": [
      "\n",
      "Train Loss: 0.162,Train Accuracy: 0.947, Valid Loss: 0.119, Valid Accuracy: 0.94\n"
     ]
    },
    {
     "name": "stderr",
     "output_type": "stream",
     "text": [
      " 44%|████▍     | 11/25 [04:08<05:14, 22.44s/it]"
     ]
    },
    {
     "name": "stdout",
     "output_type": "stream",
     "text": [
      "\n",
      "Train Loss: 0.154,Train Accuracy: 0.947, Valid Loss: 0.151, Valid Accuracy: 0.94\n"
     ]
    },
    {
     "name": "stderr",
     "output_type": "stream",
     "text": [
      " 48%|████▊     | 12/25 [04:31<04:51, 22.42s/it]"
     ]
    },
    {
     "name": "stdout",
     "output_type": "stream",
     "text": [
      "\n",
      "Train Loss: 0.132,Train Accuracy: 0.947, Valid Loss: 0.114, Valid Accuracy: 0.94\n"
     ]
    },
    {
     "name": "stderr",
     "output_type": "stream",
     "text": [
      " 52%|█████▏    | 13/25 [04:53<04:28, 22.36s/it]"
     ]
    },
    {
     "name": "stdout",
     "output_type": "stream",
     "text": [
      "\n",
      "Train Loss: 0.205,Train Accuracy: 0.935, Valid Loss: 0.167, Valid Accuracy: 0.94\n"
     ]
    },
    {
     "name": "stderr",
     "output_type": "stream",
     "text": [
      " 56%|█████▌    | 14/25 [05:15<04:06, 22.37s/it]"
     ]
    },
    {
     "name": "stdout",
     "output_type": "stream",
     "text": [
      "\n",
      "Train Loss: 0.147,Train Accuracy: 0.939, Valid Loss: 0.117, Valid Accuracy: 0.94\n"
     ]
    },
    {
     "name": "stderr",
     "output_type": "stream",
     "text": [
      " 60%|██████    | 15/25 [05:38<03:43, 22.39s/it]"
     ]
    },
    {
     "name": "stdout",
     "output_type": "stream",
     "text": [
      "\n",
      "Train Loss: 0.200,Train Accuracy: 0.928, Valid Loss: 0.178, Valid Accuracy: 0.92\n"
     ]
    },
    {
     "name": "stderr",
     "output_type": "stream",
     "text": [
      " 64%|██████▍   | 16/25 [06:01<03:23, 22.61s/it]"
     ]
    },
    {
     "name": "stdout",
     "output_type": "stream",
     "text": [
      "\n",
      "Train Loss: 0.193,Train Accuracy: 0.909, Valid Loss: 0.282, Valid Accuracy: 0.92\n"
     ]
    },
    {
     "name": "stderr",
     "output_type": "stream",
     "text": [
      " 68%|██████▊   | 17/25 [06:23<03:00, 22.59s/it]"
     ]
    },
    {
     "name": "stdout",
     "output_type": "stream",
     "text": [
      "\n",
      "Train Loss: 0.219,Train Accuracy: 0.916, Valid Loss: 0.033, Valid Accuracy: 0.98\n"
     ]
    },
    {
     "name": "stderr",
     "output_type": "stream",
     "text": [
      " 72%|███████▏  | 18/25 [06:46<02:37, 22.53s/it]"
     ]
    },
    {
     "name": "stdout",
     "output_type": "stream",
     "text": [
      "\n",
      "Train Loss: 0.403,Train Accuracy: 0.901, Valid Loss: 0.327, Valid Accuracy: 0.92\n"
     ]
    },
    {
     "name": "stderr",
     "output_type": "stream",
     "text": [
      " 76%|███████▌  | 19/25 [07:08<02:15, 22.53s/it]"
     ]
    },
    {
     "name": "stdout",
     "output_type": "stream",
     "text": [
      "\n",
      "Train Loss: 0.224,Train Accuracy: 0.909, Valid Loss: 0.051, Valid Accuracy: 0.96\n"
     ]
    },
    {
     "name": "stderr",
     "output_type": "stream",
     "text": [
      " 80%|████████  | 20/25 [07:31<01:52, 22.60s/it]"
     ]
    },
    {
     "name": "stdout",
     "output_type": "stream",
     "text": [
      "\n",
      "Train Loss: 0.166,Train Accuracy: 0.935, Valid Loss: 0.071, Valid Accuracy: 0.98\n"
     ]
    },
    {
     "name": "stderr",
     "output_type": "stream",
     "text": [
      " 84%|████████▍ | 21/25 [07:54<01:30, 22.58s/it]"
     ]
    },
    {
     "name": "stdout",
     "output_type": "stream",
     "text": [
      "\n",
      "Train Loss: 0.189,Train Accuracy: 0.935, Valid Loss: 0.083, Valid Accuracy: 0.98\n"
     ]
    },
    {
     "name": "stderr",
     "output_type": "stream",
     "text": [
      " 88%|████████▊ | 22/25 [08:16<01:07, 22.51s/it]"
     ]
    },
    {
     "name": "stdout",
     "output_type": "stream",
     "text": [
      "\n",
      "Train Loss: 0.184,Train Accuracy: 0.939, Valid Loss: 0.107, Valid Accuracy: 0.94\n"
     ]
    },
    {
     "name": "stderr",
     "output_type": "stream",
     "text": [
      " 92%|█████████▏| 23/25 [08:38<00:44, 22.48s/it]"
     ]
    },
    {
     "name": "stdout",
     "output_type": "stream",
     "text": [
      "\n",
      "Train Loss: 0.158,Train Accuracy: 0.939, Valid Loss: 0.031, Valid Accuracy: 0.98\n"
     ]
    },
    {
     "name": "stderr",
     "output_type": "stream",
     "text": [
      " 96%|█████████▌| 24/25 [09:01<00:22, 22.46s/it]"
     ]
    },
    {
     "name": "stdout",
     "output_type": "stream",
     "text": [
      "\n",
      "Train Loss: 0.192,Train Accuracy: 0.939, Valid Loss: 0.066, Valid Accuracy: 0.96\n"
     ]
    },
    {
     "name": "stderr",
     "output_type": "stream",
     "text": [
      "100%|██████████| 25/25 [09:23<00:00, 22.56s/it]"
     ]
    },
    {
     "name": "stdout",
     "output_type": "stream",
     "text": [
      "\n",
      "Train Loss: 0.264,Train Accuracy: 0.909, Valid Loss: 0.123, Valid Accuracy: 0.94\n"
     ]
    },
    {
     "name": "stderr",
     "output_type": "stream",
     "text": [
      "\n"
     ]
    }
   ],
   "source": [
    "from tqdm import tqdm\n",
    "train_losses = []\n",
    "valid_losses = []\n",
    "train_acc = []\n",
    "valid_acc=[]\n",
    "# Define a function for the training loop\n",
    "def train(model, loss_fn, optimizer, num_epochs):\n",
    "\n",
    "    for epoch in tqdm(range(num_epochs)):\n",
    "\n",
    "        # Training\n",
    "        # Set the model to training mode\n",
    "        model.train()\n",
    "\n",
    "        train_size = 0\n",
    "        train_loss = 0.0\n",
    "        train_accuracy = 0.0\n",
    "\n",
    "        # Loop through the training dataloader\n",
    "        for batch_idx, (images, labels) in enumerate(train_dataloader):\n",
    "            images, labels = images.to(device), labels.to(device)\n",
    "\n",
    "            # Zero the gradients\n",
    "            optimizer.zero_grad()\n",
    "\n",
    "            # Forward pass\n",
    "            outputs = model(images)\n",
    "            loss = loss_fn(outputs, F.one_hot(labels,2).float())\n",
    "\n",
    "            # Compute accuracy\n",
    "            _, preds = torch.max(outputs, 1)\n",
    "            train_accuracy += torch.sum(preds == labels.data)\n",
    "\n",
    "            # Backward pass\n",
    "            loss.backward()\n",
    "            optimizer.step()\n",
    "\n",
    "            train_loss += loss.item() * images.size(0)\n",
    "            train_size += images.size(0)\n",
    "\n",
    "        # Validation\n",
    "        # Set the model to evalutaion mode\n",
    "        model.eval()\n",
    "\n",
    "        valid_size = 0\n",
    "        valid_loss = 0.0\n",
    "        valid_accuracy = 0.0\n",
    "\n",
    "        # Loop through the validing dataloader\n",
    "        for batch_idx, (images, labels) in enumerate(valid_dataloader):\n",
    "            images, labels = images.to(device), labels.to(device)\n",
    "\n",
    "            # Zero the gradients\n",
    "            optimizer.zero_grad()\n",
    "\n",
    "            # Forward pass\n",
    "            outputs = model(images)\n",
    "            loss = loss_fn(outputs, F.one_hot(labels,2).float())\n",
    "\n",
    "            # Compute accuracy\n",
    "            _, preds = torch.max(outputs, 1)\n",
    "            valid_accuracy += torch.sum(preds == labels.data)\n",
    "\n",
    "            # Backward pass\n",
    "            loss.backward()\n",
    "            optimizer.step()\n",
    "\n",
    "            valid_loss += loss.item() * images.size(0)\n",
    "            valid_size += images.size(0)\n",
    "\n",
    "        # Print training and validation statistics\n",
    "        train_loss = train_loss / train_size\n",
    "        train_losses.append(train_loss)\n",
    "        train_accuracy = train_accuracy / train_size\n",
    "        train_acc.append(train_accuracy)\n",
    "\n",
    "        valid_loss = valid_loss / valid_size\n",
    "        valid_losses.append(valid_loss)\n",
    "\n",
    "        valid_accuracy = valid_accuracy / valid_size\n",
    "        valid_acc.append(valid_accuracy)\n",
    "\n",
    "        \n",
    "        print(f\"\\nTrain Loss: {train_loss:.3f},Train Accuracy: {train_accuracy:.3f}, Valid Loss: {valid_loss:.3f}, Valid Accuracy: {valid_accuracy:.2f}\")\n",
    "\n",
    "# Train the model\n",
    "train(model, loss_fn, optimizer, num_epochs=25)"
   ]
  },
  {
   "cell_type": "code",
   "execution_count": null,
   "metadata": {},
   "outputs": [],
   "source": [
    "# plot train and test losses\n",
    "plt.plot(train_losses, label='train loss')\n",
    "plt.plot(valid_losses, label='validation loss')\n",
    "plt.legend()\n",
    "plt.show()"
   ]
  },
  {
   "cell_type": "code",
   "execution_count": null,
   "metadata": {},
   "outputs": [],
   "source": [
    "# plot train and test acc\n",
    "train_acc_np= np.array([x.cpu().numpy() for x in train_acc])\n",
    "valid_acc_np= np.array([x.cpu().numpy() for x in valid_acc])\n",
    "\n",
    "plt.plot(train_acc_np, label='train accuracy')\n",
    "plt.plot(valid_acc_np, label='validation accuracy')\n",
    "plt.legend()\n",
    "plt.show()"
   ]
  },
  {
   "cell_type": "code",
   "execution_count": 53,
   "metadata": {},
   "outputs": [],
   "source": [
    "# Evaluation on test set\n",
    "y_true = []\n",
    "y_hat = []\n",
    "\n",
    "test_size = 0\n",
    "test_loss = 0.0\n",
    "test_accuracy = 0.0\n",
    "# Loop through the testing dataloader\n",
    "for batch_idx, (images, labels) in enumerate(test_dataloader):\n",
    "    images, labels = images.to(device), labels.to(device)\n",
    "\n",
    "    # Zero the gradients\n",
    "    optimizer.zero_grad()\n",
    "\n",
    "    # Forward pass\n",
    "    outputs = model(images)\n",
    "    loss = loss_fn(outputs, F.one_hot(labels,2).float())\n",
    "\n",
    "    # Compute accuracy\n",
    "    _, preds = torch.max(outputs, 1)\n",
    "    test_accuracy += torch.sum(preds == labels.data)\n",
    "\n",
    "    y_true.extend(labels.detach().cpu().numpy().tolist())\n",
    "    y_hat.extend(preds.detach().cpu().numpy().tolist())\n",
    "\n",
    "    # Backward pass\n",
    "    loss.backward()\n",
    "    optimizer.step()\n",
    "\n",
    "    test_loss += loss.item() * images.size(0)\n",
    "    test_size += images.size(0)"
   ]
  },
  {
   "cell_type": "code",
   "execution_count": 55,
   "metadata": {},
   "outputs": [
    {
     "name": "stdout",
     "output_type": "stream",
     "text": [
      "Test Accuracy:  tensor(0.9429)\n",
      "Test AUROC:  tensor(0.5000)\n",
      "Test F1:  tensor(0.)\n"
     ]
    }
   ],
   "source": [
    "import torchmetrics\n",
    "from torchmetrics.classification import BinaryAccuracy, BinaryAUROC, BinaryF1Score\n",
    "from mlxtend.plotting import plot_confusion_matrix\n",
    "\n",
    "metrics_acc = BinaryAccuracy()\n",
    "metric_auroc = BinaryAUROC(thresholds=None)\n",
    "metric_f1 = BinaryF1Score()\n",
    "\n",
    "target = torch.tensor(y_true)\n",
    "preds = torch.tensor(y_hat)\n",
    "\n",
    "# Accuracy\n",
    "acc = metrics_acc(preds, target)\n",
    "\n",
    "# AUROC\n",
    "auroc = metric_auroc(preds, target)\n",
    "\n",
    "# F1 Score\n",
    "f1 = metric_f1(preds, target)\n",
    "\n",
    "print(\"Test Accuracy: \", acc)\n",
    "print(\"Test AUROC: \", auroc)\n",
    "print(\"Test F1: \", f1)"
   ]
  },
  {
   "cell_type": "code",
   "execution_count": 59,
   "metadata": {},
   "outputs": [
    {
     "name": "stdout",
     "output_type": "stream",
     "text": [
      "              precision    recall  f1-score   support\n",
      "\n",
      "      normal       0.94      1.00      0.97        33\n",
      "     anormal       0.00      0.00      0.00         2\n",
      "\n",
      "    accuracy                           0.94        35\n",
      "   macro avg       0.47      0.50      0.49        35\n",
      "weighted avg       0.89      0.94      0.92        35\n",
      "\n"
     ]
    },
    {
     "name": "stderr",
     "output_type": "stream",
     "text": [
      "k:\\Docs\\stage_ingenieur\\models\\classification\\virtual_env\\Lib\\site-packages\\sklearn\\metrics\\_classification.py:1469: UndefinedMetricWarning: Precision and F-score are ill-defined and being set to 0.0 in labels with no predicted samples. Use `zero_division` parameter to control this behavior.\n",
      "  _warn_prf(average, modifier, msg_start, len(result))\n",
      "k:\\Docs\\stage_ingenieur\\models\\classification\\virtual_env\\Lib\\site-packages\\sklearn\\metrics\\_classification.py:1469: UndefinedMetricWarning: Precision and F-score are ill-defined and being set to 0.0 in labels with no predicted samples. Use `zero_division` parameter to control this behavior.\n",
      "  _warn_prf(average, modifier, msg_start, len(result))\n",
      "k:\\Docs\\stage_ingenieur\\models\\classification\\virtual_env\\Lib\\site-packages\\sklearn\\metrics\\_classification.py:1469: UndefinedMetricWarning: Precision and F-score are ill-defined and being set to 0.0 in labels with no predicted samples. Use `zero_division` parameter to control this behavior.\n",
      "  _warn_prf(average, modifier, msg_start, len(result))\n"
     ]
    }
   ],
   "source": [
    "# Classification Report\n",
    "\n",
    "from sklearn.metrics import classification_report\n",
    "target_names = ['normal', 'anormal']\n",
    "print(classification_report(y_true, y_hat, target_names=target_names))"
   ]
  },
  {
   "cell_type": "code",
   "execution_count": 57,
   "metadata": {},
   "outputs": [
    {
     "data": {
      "text/plain": [
       "array([[33,  0],\n",
       "       [ 2,  0]], dtype=int64)"
      ]
     },
     "execution_count": 57,
     "metadata": {},
     "output_type": "execute_result"
    }
   ],
   "source": [
    "from sklearn.metrics import confusion_matrix\n",
    "\n",
    "# Order of the input parameters is important: \n",
    "# first param is the actual output values\n",
    "# second param is what our model predicted\n",
    "conf_matrix = confusion_matrix(y_true, y_hat)\n",
    "\n",
    "conf_matrix"
   ]
  },
  {
   "cell_type": "code",
   "execution_count": 60,
   "metadata": {},
   "outputs": [
    {
     "data": {
      "image/png": "[encoded data removed]",
      "text/plain": [
       "<Figure size 800x600 with 2 Axes>"
      ]
     },
     "metadata": {},
     "output_type": "display_data"
    }
   ],
   "source": [
    "import matplotlib.pyplot as plt\n",
    "from sklearn.metrics import ConfusionMatrixDisplay\n",
    "\n",
    "# Change figure size and increase dpi for better resolution\n",
    "# and get reference to axes object\n",
    "fig, ax = plt.subplots(figsize=(8,6), dpi=100)\n",
    "\n",
    "# initialize using the raw 2D confusion matrix \n",
    "# and output labels (in our case, it's 0 and 1)\n",
    "display = ConfusionMatrixDisplay(conf_matrix, display_labels=['normal', 'anormal'])\n",
    "\n",
    "# set the plot title using the axes object\n",
    "ax.set(title='Confusion Matrix for CXR abnormalities detection Model')\n",
    "\n",
    "# show the plot. \n",
    "# Pass the parameter ax to show customizations (ex. title) \n",
    "display.plot(ax=ax);"
   ]
  },
  {
   "cell_type": "code",
   "execution_count": 61,
   "metadata": {},
   "outputs": [
    {
     "data": {
      "image/png": "[encoded data removed]",
      "text/plain": [
       "<Figure size 640x480 with 1 Axes>"
      ]
     },
     "metadata": {},
     "output_type": "display_data"
    }
   ],
   "source": [
    "from sklearn import metrics\n",
    "fpr, tpr, _ = metrics.roc_curve(y_true,  y_hat)\n",
    "auc = metrics.roc_auc_score(y_true, y_hat)\n",
    "\n",
    "#create ROC curve\n",
    "plt.plot(fpr,tpr,label=\"AUC=\"+str(auc))\n",
    "plt.ylabel('True Positive Rate')\n",
    "plt.xlabel('False Positive Rate')\n",
    "plt.legend(loc=4)\n",
    "plt.show()"
   ]
  },
  {
   "cell_type": "code",
   "execution_count": 62,
   "metadata": {},
   "outputs": [
    {
     "name": "stdout",
     "output_type": "stream",
     "text": [
      "saving the entire model to :K:\\Docs\\stage_ingenieur\\models\\classification\\model_classification_densenet_with_data_augmentation.pth\n"
     ]
    }
   ],
   "source": [
    "from pathlib import Path\n",
    "\n",
    "# create model directory path\n",
    "MODEL_PATH = Path(path_where_you_want_to_save_the_model)\n",
    "MODEL_PATH.mkdir(parents = True, exist_ok = True)\n",
    "\n",
    "# create model save\n",
    "MODEL_NAME = the_name_you_want_to_give_to_the_model\n",
    "MODEL_SAVE_PATH = MODEL_PATH/MODEL_NAME\n",
    "\n",
    "\n",
    "\n",
    "# save the entire model\n",
    "print(f'saving the entire model to :{MODEL_SAVE_PATH}')\n",
    "torch.save(model, MODEL_SAVE_PATH)"
   ]
  },
  {
   "cell_type": "code",
   "execution_count": 65,
   "metadata": {},
   "outputs": [],
   "source": [
    "# loading model\n",
    "PATH = MODEL_SAVE_PATH\n",
    "model = torch.load(PATH,map_location=torch.device('cpu'))"
   ]
  },
  {
   "cell_type": "code",
   "execution_count": 67,
   "metadata": {},
   "outputs": [],
   "source": [
    "# saving the model in onnx format\n",
    "import torch.onnx \n",
    "\n",
    " # set the model to inference mode\n",
    "model.eval()\n",
    "\n",
    "# Input to the model\n",
    "x = torch.randn(1, 3, 224, 224, requires_grad=True)\n",
    "\n",
    "input_names = [ \"actual_input\" ]\n",
    "output_names = [ \"output\" ]\n",
    "\n",
    "torch.onnx.export(model,\n",
    "                 x,\n",
    "                 MODEL_SAVE_PATH+\".onnx\",\n",
    "                 verbose=False,\n",
    "                 input_names=input_names,\n",
    "                 output_names=output_names,\n",
    "                 export_params=True,\n",
    "                 )"
   ]
  }
 ],
 "metadata": {
  "kernelspec": {
   "display_name": "virtual_env_classification",
   "language": "python",
   "name": "python3"
  },
  "language_info": {
   "codemirror_mode": {
    "name": "ipython",
    "version": 3
   },
   "file_extension": ".py",
   "mimetype": "text/x-python",
   "name": "python",
   "nbconvert_exporter": "python",
   "pygments_lexer": "ipython3",
   "version": "3.11.4"
  }
 },
 "nbformat": 4,
 "nbformat_minor": 2
}
