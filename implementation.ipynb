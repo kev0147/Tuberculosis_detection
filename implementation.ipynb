{
 "cells": [
  {
   "cell_type": "code",
   "execution_count": 4,
   "metadata": {},
   "outputs": [],
   "source": [
    "import glob\n",
    "import os\n",
    "import onnxruntime\n",
    "import numpy as np\n",
    "from PIL import Image\n",
    "import torchvision.transforms as transforms\n",
    "\n",
    "path_of_the_model = '' #the path to the onnx file of your model\n",
    "path_of_folder_where_your_images_are = '' #path to the folder where the images you want the predict are\n",
    "\n",
    "# Load the ONNX model\n",
    "onnx_model_path = path_of_the_model\n",
    "ort_session = onnxruntime.InferenceSession(onnx_model_path)\n",
    "image_transform = transforms.Compose([\n",
    "    transforms.Resize(256),\n",
    "    transforms.CenterCrop(224),\n",
    "    transforms.Grayscale(num_output_channels=3),  # Convert to RGB\n",
    "    transforms.ToTensor(),\n",
    "    transforms.Normalize([0.485, 0.456, 0.406], [0.229, 0.224, 0.225])\n",
    "])\n",
    "\n",
    "image_folder_path = path_of_folder_where_your_images_are\n",
    "#image_folder_path = \"K:/Docs/stage_ingenieur/models/datas/cxrs/pathological\"\n",
    "# List all image files in the folder\n",
    "image_files = glob.glob(os.path.join(image_folder_path, \"*.JPEG\"))\n",
    "\n",
    "# Loop through each image and perform inference\n",
    "for image_file in image_files:\n",
    "    # Preprocess the image\n",
    "    image = Image.open(image_file)\n",
    "    try:\n",
    "        input_data = image_transform(image).unsqueeze(0).numpy()\n",
    "    except Exception as e:\n",
    "        print(f\"Skipping image {image_file} due to error: {e}\")\n",
    "        continue\n",
    "    \n",
    "    # Run inference\n",
    "    ort_inputs = {ort_session.get_inputs()[0].name: input_data}\n",
    "    ort_outputs = ort_session.run(None, ort_inputs)\n",
    "    \n",
    "    # Post-process results (if needed)\n",
    "    # You might need to interpret the model's output to get meaningful predictions\n",
    "    output = ort_outputs[0]\n",
    "    class_probabilities = np.exp(output) / np.sum(np.exp(output), axis=1, keepdims=True)\n",
    "\n",
    "    # Get predicted class index\n",
    "    predicted_class_index = np.argmax(class_probabilities)\n",
    "\n",
    "    # Print results\n",
    "\n",
    "    # Print predictions or save them as needed\n",
    "    print(f\"Image: {image_file}, Predictions: {ort_outputs}\")\n",
    "    print(\"Predicted class index:\", predicted_class_index)\n",
    "    print(\"Class probabilities:\", class_probabilities)"
   ]
  }
 ],
 "metadata": {
  "kernelspec": {
   "display_name": "virtual_env",
   "language": "python",
   "name": "python3"
  },
  "language_info": {
   "codemirror_mode": {
    "name": "ipython",
    "version": 3
   },
   "file_extension": ".py",
   "mimetype": "text/x-python",
   "name": "python",
   "nbconvert_exporter": "python",
   "pygments_lexer": "ipython3",
   "version": "3.11.4"
  }
 },
 "nbformat": 4,
 "nbformat_minor": 2
}
