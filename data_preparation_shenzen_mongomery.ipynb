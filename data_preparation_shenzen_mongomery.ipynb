{
 "cells": [
  {
   "cell_type": "markdown",
   "metadata": {},
   "source": [
    "DO this because of missing masks"
   ]
  },
  {
   "cell_type": "code",
   "execution_count": null,
   "metadata": {},
   "outputs": [],
   "source": [
    "import os\n",
    "import shutil\n",
    "\n",
    "\n",
    "#********************************************\n",
    "#**************to complete*******************\n",
    "#********************************************\n",
    "source_directory = '' #path to the images\n",
    "mask_directory = '' #path to the masks\n",
    "\n",
    "\n",
    "\n",
    "# List all files in the source directory\n",
    "source_files = os.listdir(source_directory)\n",
    "\n",
    "# List all files in the target directory\n",
    "masks = os.listdir(mask_directory)\n",
    "\n",
    "images = []\n",
    "\n",
    "# Iterate through the source files\n",
    "for file in masks:\n",
    "    # Check if the source file has no corresponding file in the target directory\n",
    "    file = file.replace(\"_mask\", \"\")\n",
    "    #print(file)\n",
    "    if file in source_files:\n",
    "        # Construct the full path to the source file\n",
    "        target_file_path = os.path.join(source_directory, 'masked_cxr')\n",
    "        images.append(target_file_path)\n",
    "\n",
    "print(len(images))"
   ]
  },
  {
   "cell_type": "markdown",
   "metadata": {},
   "source": [
    "THIS IS FOR MONTGOMERY DATASET"
   ]
  },
  {
   "cell_type": "code",
   "execution_count": null,
   "metadata": {},
   "outputs": [],
   "source": [
    "from glob import glob\n",
    "from tqdm import tqdm\n",
    "import os\n",
    "import cv2\n",
    "import numpy as np \n",
    "\n",
    "#********************************************\n",
    "#**************to complete*******************\n",
    "#********************************************\n",
    "path_to_montgomery_masks = ''  #enter the folder named 'ManualMask'\n",
    "path_to_montgomery_images = '' ##enter the folder named 'CXR_png'\n",
    "\n",
    "montgomery_left_mask_dir = glob(os.path.join(path_to_montgomery_masks+'leftMask/', '*.png'))\n",
    "montgomery_train= montgomery_left_mask_dir[:]\n",
    "\n",
    "for left_image_file in tqdm(montgomery_left_mask_dir):\n",
    "    base_file = os.path.basename(left_image_file)\n",
    "    image_file = os.path.join(path_to_montgomery_images, base_file)\n",
    "    right_image_file = os.path.join(path_to_montgomery_masks+'rightMask/', base_file)\n",
    "\n",
    "    image = cv2.imread(image_file)\n",
    "    left_mask = cv2.imread(left_image_file, cv2.IMREAD_GRAYSCALE)\n",
    "    right_mask = cv2.imread(right_image_file, cv2.IMREAD_GRAYSCALE)\n",
    "    \n",
    "    image = cv2.resize(image, (512, 512))\n",
    "    left_mask = cv2.resize(left_mask, (512, 512))\n",
    "    right_mask = cv2.resize(right_mask, (512, 512))\n",
    "    \n",
    "    mask = np.maximum(left_mask, right_mask)\n",
    "    \n",
    "    if (left_image_file in montgomery_train):\n",
    "        cv2.imwrite(os.path.join(source_directory, base_file), \\\n",
    "                    image)\n",
    "        cv2.imwrite(os.path.join(mask_directory, base_file), \\\n",
    "                    mask)"
   ]
  }
 ],
 "metadata": {
  "language_info": {
   "name": "python"
  }
 },
 "nbformat": 4,
 "nbformat_minor": 2
}
